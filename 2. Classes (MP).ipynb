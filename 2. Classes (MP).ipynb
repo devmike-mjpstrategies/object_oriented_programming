{
 "cells": [
  {
   "cell_type": "markdown",
   "id": "5e29b806",
   "metadata": {},
   "source": [
    "# Classes\n",
    "\n",
    "## Key Intuitions\n",
    "1. A class is a base blueprint against which many instances can be created.\n",
    "2. Even the simplest class has state and behavior.\n",
    "3. Calling the class creates instances (or objects) of that class."
   ]
  },
  {
   "cell_type": "markdown",
   "id": "7d0e3ea6",
   "metadata": {},
   "source": [
    "### Creating a class"
   ]
  },
  {
   "cell_type": "code",
   "execution_count": 1,
   "id": "d3aaa45c",
   "metadata": {},
   "outputs": [],
   "source": [
    "class MercedezBenz:\n",
    "    pass"
   ]
  },
  {
   "cell_type": "markdown",
   "id": "4bda229b",
   "metadata": {},
   "source": [
    "A class is an object in memory. Note that class names should normally use the CapWords (camel case) convention. "
   ]
  },
  {
   "cell_type": "code",
   "execution_count": 2,
   "id": "713936c1",
   "metadata": {},
   "outputs": [
    {
     "data": {
      "text/plain": [
       "__main__.MercedezBenz"
      ]
     },
     "execution_count": 2,
     "metadata": {},
     "output_type": "execute_result"
    }
   ],
   "source": [
    "MercedezBenz"
   ]
  },
  {
   "cell_type": "markdown",
   "id": "55097e4a",
   "metadata": {},
   "source": [
    "A class is of the type \"type\"."
   ]
  },
  {
   "cell_type": "code",
   "execution_count": 3,
   "id": "6e803b17",
   "metadata": {},
   "outputs": [
    {
     "data": {
      "text/plain": [
       "type"
      ]
     },
     "execution_count": 3,
     "metadata": {},
     "output_type": "execute_result"
    }
   ],
   "source": [
    "type(MercedezBenz)"
   ]
  },
  {
   "cell_type": "markdown",
   "id": "3f74b5bd",
   "metadata": {},
   "source": [
    "By creating a class, we get an object that encapsulates a number of properties and behaviors..."
   ]
  },
  {
   "cell_type": "code",
   "execution_count": 4,
   "id": "deaaac12",
   "metadata": {},
   "outputs": [
    {
     "data": {
      "text/plain": [
       "(object,)"
      ]
     },
     "execution_count": 4,
     "metadata": {},
     "output_type": "execute_result"
    }
   ],
   "source": [
    "MercedezBenz.__bases__"
   ]
  },
  {
   "cell_type": "code",
   "execution_count": 5,
   "id": "ac1f216e",
   "metadata": {},
   "outputs": [
    {
     "data": {
      "text/plain": [
       "'MercedezBenz'"
      ]
     },
     "execution_count": 5,
     "metadata": {},
     "output_type": "execute_result"
    }
   ],
   "source": [
    "MercedezBenz.__name__"
   ]
  },
  {
   "cell_type": "markdown",
   "id": "0ebc9ae3",
   "metadata": {},
   "source": [
    "### Instantiating a class"
   ]
  },
  {
   "cell_type": "code",
   "execution_count": 6,
   "id": "3c38e892",
   "metadata": {},
   "outputs": [
    {
     "data": {
      "text/plain": [
       "<__main__.MercedezBenz at 0x72d90c4faf90>"
      ]
     },
     "execution_count": 6,
     "metadata": {},
     "output_type": "execute_result"
    }
   ],
   "source": [
    "MercedezBenz()"
   ]
  },
  {
   "cell_type": "markdown",
   "id": "57317ae9",
   "metadata": {},
   "source": [
    "The following two instances of the same class are, in fact, two distinct objects in memory."
   ]
  },
  {
   "cell_type": "code",
   "execution_count": 7,
   "id": "67582ffc",
   "metadata": {},
   "outputs": [],
   "source": [
    "m1 = MercedezBenz()\n",
    "m2 = MercedezBenz()"
   ]
  },
  {
   "cell_type": "code",
   "execution_count": 8,
   "id": "3bd623f1",
   "metadata": {},
   "outputs": [
    {
     "data": {
      "text/plain": [
       "<__main__.MercedezBenz at 0x72d90c4f8110>"
      ]
     },
     "execution_count": 8,
     "metadata": {},
     "output_type": "execute_result"
    }
   ],
   "source": [
    "m1"
   ]
  },
  {
   "cell_type": "code",
   "execution_count": 9,
   "id": "3b889ad2",
   "metadata": {},
   "outputs": [
    {
     "data": {
      "text/plain": [
       "<__main__.MercedezBenz at 0x72d90c4fa810>"
      ]
     },
     "execution_count": 9,
     "metadata": {},
     "output_type": "execute_result"
    }
   ],
   "source": [
    "m2"
   ]
  },
  {
   "cell_type": "code",
   "execution_count": 10,
   "id": "c8ce4139",
   "metadata": {},
   "outputs": [
    {
     "data": {
      "text/plain": [
       "False"
      ]
     },
     "execution_count": 10,
     "metadata": {},
     "output_type": "execute_result"
    }
   ],
   "source": [
    "m1 == m2"
   ]
  },
  {
   "cell_type": "markdown",
   "id": "4abbaf5e",
   "metadata": {},
   "source": [
    "## Class State\n",
    "\n",
    "### Key Intuitions\n",
    "1. Traditionally, class state is defined in the class body, which is stored in a mappingproxy object and retrieved using \\\"__dict\\__\"\n",
    "2. Class state is shared and accessible by all instances of that class."
   ]
  },
  {
   "cell_type": "markdown",
   "id": "d337389d",
   "metadata": {},
   "source": [
    "Here I created a couple attributes for this Mercedez Benz: doors and wheels. These attributes live in the class namespace, which is accessible under a special attribute called \\\"__dict\\__\". Note that we're manipulating the Class State below. We'll soon see how this affects instances of the class."
   ]
  },
  {
   "cell_type": "code",
   "execution_count": 11,
   "id": "c482b48a",
   "metadata": {},
   "outputs": [],
   "source": [
    "class MercedezBenz:\n",
    "    doors = 2\n",
    "    wheels = 4"
   ]
  },
  {
   "cell_type": "code",
   "execution_count": 12,
   "id": "f07649f1",
   "metadata": {},
   "outputs": [
    {
     "data": {
      "text/plain": [
       "mappingproxy({'__module__': '__main__',\n",
       "              'doors': 2,\n",
       "              'wheels': 4,\n",
       "              '__dict__': <attribute '__dict__' of 'MercedezBenz' objects>,\n",
       "              '__weakref__': <attribute '__weakref__' of 'MercedezBenz' objects>,\n",
       "              '__doc__': None})"
      ]
     },
     "execution_count": 12,
     "metadata": {},
     "output_type": "execute_result"
    }
   ],
   "source": [
    "MercedezBenz.__dict__"
   ]
  },
  {
   "cell_type": "markdown",
   "id": "fc1bdcc7",
   "metadata": {},
   "source": [
    "We can also change or add attributes to an existing class after the class has been created."
   ]
  },
  {
   "cell_type": "code",
   "execution_count": 13,
   "id": "0c0a44db",
   "metadata": {},
   "outputs": [],
   "source": [
    "MercedezBenz.doors = 4\n",
    "MercedezBenz.model = 'G'"
   ]
  },
  {
   "cell_type": "code",
   "execution_count": 14,
   "id": "d2f95e9e",
   "metadata": {},
   "outputs": [
    {
     "data": {
      "text/plain": [
       "mappingproxy({'__module__': '__main__',\n",
       "              'doors': 4,\n",
       "              'wheels': 4,\n",
       "              '__dict__': <attribute '__dict__' of 'MercedezBenz' objects>,\n",
       "              '__weakref__': <attribute '__weakref__' of 'MercedezBenz' objects>,\n",
       "              '__doc__': None,\n",
       "              'model': 'G'})"
      ]
     },
     "execution_count": 14,
     "metadata": {},
     "output_type": "execute_result"
    }
   ],
   "source": [
    "MercedezBenz.__dict__"
   ]
  },
  {
   "cell_type": "markdown",
   "id": "693dc92c",
   "metadata": {},
   "source": [
    "When you create instances of a class, they inherit the attributes of the class (doors, model, etc.)"
   ]
  },
  {
   "cell_type": "code",
   "execution_count": 15,
   "id": "2caabd7c",
   "metadata": {},
   "outputs": [],
   "source": [
    "m3 = MercedezBenz()\n",
    "m4 = MercedezBenz()"
   ]
  },
  {
   "cell_type": "code",
   "execution_count": 16,
   "id": "496b6c9e",
   "metadata": {},
   "outputs": [
    {
     "name": "stdout",
     "output_type": "stream",
     "text": [
      "4\n",
      "G\n"
     ]
    }
   ],
   "source": [
    "print(m3.doors)\n",
    "print(m4.model)\n"
   ]
  },
  {
   "cell_type": "markdown",
   "id": "00092b42",
   "metadata": {},
   "source": [
    "As a matter of good practice, we want to make sure that all created attributes are contained within the class definition itself. Earlier, I created a \"model\" attribute. I'm going to formally place it inside the class definition."
   ]
  },
  {
   "cell_type": "code",
   "execution_count": 17,
   "id": "fcdc0b5f",
   "metadata": {},
   "outputs": [],
   "source": [
    "class MercedezBenz:\n",
    "    doors = 2\n",
    "    wheels = 4\n",
    "    model = \"G\""
   ]
  },
  {
   "cell_type": "markdown",
   "id": "92881bf5",
   "metadata": {},
   "source": [
    "The class definition only contains state values so far. However, objects can also exhibit behavior. We do this by defining functions of the class. Here is a simple function, not yet embedded in the class definition."
   ]
  },
  {
   "cell_type": "code",
   "execution_count": 18,
   "id": "44de306c",
   "metadata": {},
   "outputs": [],
   "source": [
    "def drive():\n",
    "    return \"A car is being driven\""
   ]
  },
  {
   "cell_type": "code",
   "execution_count": 19,
   "id": "330d7ba9",
   "metadata": {},
   "outputs": [
    {
     "data": {
      "text/plain": [
       "'A car is being driven'"
      ]
     },
     "execution_count": 19,
     "metadata": {},
     "output_type": "execute_result"
    }
   ],
   "source": [
    "drive()"
   ]
  },
  {
   "cell_type": "markdown",
   "id": "34869003",
   "metadata": {},
   "source": [
    "We add behaviour to our classes by defining functions.\n",
    "\n",
    "By convention, `self` is a required first parameter and represents the instance itself. Note (cell 49) that `self` does not represent the class itself.\n",
    "\n",
    "* create the class..."
   ]
  },
  {
   "cell_type": "code",
   "execution_count": 20,
   "id": "fbaed28e",
   "metadata": {},
   "outputs": [],
   "source": [
    "class MercedezBenz:\n",
    "    doors = 2\n",
    "    wheels = 4\n",
    "    model = \"G\"\n",
    "\n",
    "    def drive(self):\n",
    "        return self\n"
   ]
  },
  {
   "cell_type": "markdown",
   "id": "71f81018",
   "metadata": {},
   "source": [
    "* create an instance..."
   ]
  },
  {
   "cell_type": "code",
   "execution_count": 21,
   "id": "f774d47b",
   "metadata": {},
   "outputs": [],
   "source": [
    "m1 = MercedezBenz()"
   ]
  },
  {
   "cell_type": "markdown",
   "id": "80e29c43",
   "metadata": {},
   "source": [
    "* invoke the drive() method...\n",
    "Note that it returns a specific instance."
   ]
  },
  {
   "cell_type": "code",
   "execution_count": 22,
   "id": "126e9df4",
   "metadata": {},
   "outputs": [
    {
     "data": {
      "text/plain": [
       "<__main__.MercedezBenz at 0x72d90c4f8b60>"
      ]
     },
     "execution_count": 22,
     "metadata": {},
     "output_type": "execute_result"
    }
   ],
   "source": [
    "m1.drive()"
   ]
  },
  {
   "cell_type": "code",
   "execution_count": 23,
   "id": "a46be1bb",
   "metadata": {},
   "outputs": [
    {
     "data": {
      "text/plain": [
       "<__main__.MercedezBenz at 0x72d90c4f8b60>"
      ]
     },
     "execution_count": 23,
     "metadata": {},
     "output_type": "execute_result"
    }
   ],
   "source": [
    "m1"
   ]
  },
  {
   "cell_type": "code",
   "execution_count": 24,
   "id": "1d2e77f9",
   "metadata": {},
   "outputs": [
    {
     "name": "stdout",
     "output_type": "stream",
     "text": [
      "True\n",
      "True\n"
     ]
    }
   ],
   "source": [
    "print(m1 == m1.drive())\n",
    "print(m1 is m1.drive())"
   ]
  },
  {
   "cell_type": "code",
   "execution_count": 25,
   "id": "4c50bab1",
   "metadata": {},
   "outputs": [
    {
     "data": {
      "text/plain": [
       "False"
      ]
     },
     "execution_count": 25,
     "metadata": {},
     "output_type": "execute_result"
    }
   ],
   "source": [
    "m1 == MercedezBenz"
   ]
  },
  {
   "cell_type": "markdown",
   "id": "5a241286",
   "metadata": {},
   "source": [
    "`self` represents different objects when called from m1 relative to m2."
   ]
  },
  {
   "cell_type": "code",
   "execution_count": 26,
   "id": "eeede360",
   "metadata": {},
   "outputs": [],
   "source": [
    "class MercedezBenz:\n",
    "    doors = 2\n",
    "    wheels = 4\n",
    "    model = \"G\"\n",
    "\n",
    "    def drive(self):\n",
    "        return f\"A Mercedez is driving. And it is {self}\\n\""
   ]
  },
  {
   "cell_type": "code",
   "execution_count": 27,
   "id": "6e062c9e",
   "metadata": {},
   "outputs": [],
   "source": [
    "m1 = MercedezBenz()\n",
    "m2 = MercedezBenz()"
   ]
  },
  {
   "cell_type": "code",
   "execution_count": 28,
   "id": "47cf1fb5",
   "metadata": {},
   "outputs": [
    {
     "name": "stdout",
     "output_type": "stream",
     "text": [
      "A Mercedez is driving. And it is <__main__.MercedezBenz object at 0x72d90c4fb0e0>\n",
      "\n",
      "A Mercedez is driving. And it is <__main__.MercedezBenz object at 0x72d90c4f8f80>\n",
      "\n"
     ]
    }
   ],
   "source": [
    "print(m1.drive())\n",
    "print(m2.drive())"
   ]
  },
  {
   "cell_type": "markdown",
   "id": "5400d034",
   "metadata": {},
   "source": [
    "### Tracing drive\n",
    "\n",
    "Note that I'm not calling the method with \"()\". The return indicates that `drive()` is a function of the class. Further, each instance of the function is bound to a unique instance of the class. Per line 60, a method is a function that is bound to a specific instance."
   ]
  },
  {
   "cell_type": "code",
   "execution_count": 29,
   "id": "f6eeecaa",
   "metadata": {},
   "outputs": [
    {
     "data": {
      "text/plain": [
       "<function __main__.MercedezBenz.drive(self)>"
      ]
     },
     "execution_count": 29,
     "metadata": {},
     "output_type": "execute_result"
    }
   ],
   "source": [
    "MercedezBenz.drive"
   ]
  },
  {
   "cell_type": "code",
   "execution_count": 30,
   "id": "5261108e",
   "metadata": {},
   "outputs": [
    {
     "data": {
      "text/plain": [
       "function"
      ]
     },
     "execution_count": 30,
     "metadata": {},
     "output_type": "execute_result"
    }
   ],
   "source": [
    "type(MercedezBenz.drive)"
   ]
  },
  {
   "cell_type": "code",
   "execution_count": 31,
   "id": "b598146b",
   "metadata": {},
   "outputs": [
    {
     "data": {
      "text/plain": [
       "<bound method MercedezBenz.drive of <__main__.MercedezBenz object at 0x72d90c4fb0e0>>"
      ]
     },
     "execution_count": 31,
     "metadata": {},
     "output_type": "execute_result"
    }
   ],
   "source": [
    "m1.drive"
   ]
  },
  {
   "cell_type": "code",
   "execution_count": 32,
   "id": "14837ac4",
   "metadata": {},
   "outputs": [
    {
     "data": {
      "text/plain": [
       "<bound method MercedezBenz.drive of <__main__.MercedezBenz object at 0x72d90c4f8f80>>"
      ]
     },
     "execution_count": 32,
     "metadata": {},
     "output_type": "execute_result"
    }
   ],
   "source": [
    "m2.drive"
   ]
  },
  {
   "cell_type": "code",
   "execution_count": 33,
   "id": "5f892bb6",
   "metadata": {},
   "outputs": [
    {
     "data": {
      "text/plain": [
       "method"
      ]
     },
     "execution_count": 33,
     "metadata": {},
     "output_type": "execute_result"
    }
   ],
   "source": [
    "type(m2.drive)"
   ]
  },
  {
   "cell_type": "markdown",
   "id": "1b95ba7f",
   "metadata": {},
   "source": [
    "## Instance Attributes"
   ]
  },
  {
   "cell_type": "code",
   "execution_count": 34,
   "id": "aa31fafc",
   "metadata": {},
   "outputs": [],
   "source": [
    "class MercedezBenz:\n",
    "    doors = 4\n",
    "    wheels = 4\n",
    "    model = \"G\"\n",
    "\n",
    "    def drive(self):\n",
    "        return f\"A Mercedez is driving. And it is {self}\\n\""
   ]
  },
  {
   "cell_type": "code",
   "execution_count": 35,
   "id": "ad99e249",
   "metadata": {},
   "outputs": [],
   "source": [
    "m1 = MercedezBenz()\n",
    "m2 = MercedezBenz()"
   ]
  },
  {
   "cell_type": "code",
   "execution_count": 36,
   "id": "c621fa7a",
   "metadata": {},
   "outputs": [
    {
     "data": {
      "text/plain": [
       "(4, 4)"
      ]
     },
     "execution_count": 36,
     "metadata": {},
     "output_type": "execute_result"
    }
   ],
   "source": [
    "m1.doors, m2.doors"
   ]
  },
  {
   "cell_type": "code",
   "execution_count": 37,
   "id": "f704ad33",
   "metadata": {},
   "outputs": [
    {
     "data": {
      "text/plain": [
       "('G', 'G')"
      ]
     },
     "execution_count": 37,
     "metadata": {},
     "output_type": "execute_result"
    }
   ],
   "source": [
    "m1.model, m2.model"
   ]
  },
  {
   "cell_type": "code",
   "execution_count": 38,
   "id": "83087c84",
   "metadata": {},
   "outputs": [],
   "source": [
    "m1.color = \"black\"\n",
    "m2.color = \"red\""
   ]
  },
  {
   "cell_type": "code",
   "execution_count": 39,
   "id": "d9151f8e",
   "metadata": {},
   "outputs": [
    {
     "data": {
      "text/plain": [
       "('black', 'red')"
      ]
     },
     "execution_count": 39,
     "metadata": {},
     "output_type": "execute_result"
    }
   ],
   "source": [
    "m1.color, m2.color"
   ]
  },
  {
   "cell_type": "code",
   "execution_count": 40,
   "id": "ed602efd",
   "metadata": {},
   "outputs": [],
   "source": [
    "class MercedezBenz:\n",
    "    doors = 4\n",
    "    wheels = 4\n",
    "    model = \"G\"\n",
    "\n",
    "    def __init__(self, color=\"black\"): #after instance creation, but before it is returned\n",
    "        self.color = color\n",
    "\n",
    "    def drive(self):\n",
    "        return f\"A Mercedez is driving. And it is {self}\\n\""
   ]
  },
  {
   "cell_type": "code",
   "execution_count": 41,
   "id": "28afbdf8",
   "metadata": {},
   "outputs": [
    {
     "data": {
      "text/plain": [
       "<__main__.MercedezBenz at 0x72d90c519250>"
      ]
     },
     "execution_count": 41,
     "metadata": {},
     "output_type": "execute_result"
    }
   ],
   "source": [
    "MercedezBenz()"
   ]
  },
  {
   "cell_type": "code",
   "execution_count": 42,
   "id": "5c09e4ea",
   "metadata": {},
   "outputs": [],
   "source": [
    "m1 = MercedezBenz(\"black\")\n",
    "m2 = MercedezBenz(\"red\")"
   ]
  },
  {
   "cell_type": "code",
   "execution_count": 43,
   "id": "7c850a6d",
   "metadata": {},
   "outputs": [
    {
     "data": {
      "text/plain": [
       "('black', 'red')"
      ]
     },
     "execution_count": 43,
     "metadata": {},
     "output_type": "execute_result"
    }
   ],
   "source": [
    "m1.color, m2.color"
   ]
  },
  {
   "cell_type": "markdown",
   "id": "33e2c1e5",
   "metadata": {},
   "source": [
    "Above I have been using `object.attribute` syntax. There is another approach using the builtin Python function `getattr()`. Below you can see that `getattr()` and `object.attribute` syntax return the same value."
   ]
  },
  {
   "cell_type": "code",
   "execution_count": 44,
   "id": "b5a454dc",
   "metadata": {},
   "outputs": [
    {
     "name": "stdout",
     "output_type": "stream",
     "text": [
      "black\n",
      "black\n"
     ]
    }
   ],
   "source": [
    "print(getattr(m1, \"color\"))\n",
    "print(m1.color)"
   ]
  },
  {
   "cell_type": "markdown",
   "id": "e4b54e2c",
   "metadata": {},
   "source": [
    "And just like before, where we add class attributes in-line, we can use object.attribute notation to add or change an attribute, or we can use `setattr()`."
   ]
  },
  {
   "cell_type": "code",
   "execution_count": 45,
   "id": "d6c45325",
   "metadata": {},
   "outputs": [],
   "source": [
    "m2.color = \"reddish\"\n"
   ]
  },
  {
   "cell_type": "code",
   "execution_count": 46,
   "metadata": {},
   "outputs": [
    {
     "data": {
      "text/plain": [
       "'reddish'"
      ]
     },
     "execution_count": 46,
     "metadata": {},
     "output_type": "execute_result"
    }
   ],
   "source": [
    "m2.color"
   ]
  },
  {
   "cell_type": "code",
   "execution_count": 47,
   "metadata": {},
   "outputs": [],
   "source": [
    "setattr(m2, 'color', \"less reddish\")"
   ]
  },
  {
   "cell_type": "code",
   "execution_count": 48,
   "metadata": {},
   "outputs": [
    {
     "data": {
      "text/plain": [
       "'less reddish'"
      ]
     },
     "execution_count": 48,
     "metadata": {},
     "output_type": "execute_result"
    }
   ],
   "source": [
    "m2.color"
   ]
  },
  {
   "cell_type": "markdown",
   "id": "6bdee6c7",
   "metadata": {},
   "source": [
    "`getattr()` and `setattr()` are particularly useful when manipulating class objects at scale."
   ]
  },
  {
   "cell_type": "code",
   "execution_count": null,
   "metadata": {},
   "outputs": [],
   "source": [
    "# Imagine there are not 2, but 200 objects! How would you set values for EVERY object?\n",
    "# Using `object.attribute` would be tedious.\n",
    "\n",
    "objs = [m1, m2] \n",
    "\n",
    "attribs = [\"color\", \"doors\"]\n",
    "values = [\"navyblue\", 3]"
   ]
  },
  {
   "cell_type": "markdown",
   "id": "0e846bf1",
   "metadata": {},
   "source": [
    "Instead, in 3 lines of code you can iterate over the objects and set attributes accordingly."
   ]
  },
  {
   "cell_type": "code",
   "execution_count": 51,
   "metadata": {},
   "outputs": [],
   "source": [
    "for obj in objs:\n",
    "    for attrib, val in zip(attribs, values):\n",
    "        setattr(obj, attrib, val)"
   ]
  },
  {
   "cell_type": "code",
   "execution_count": 53,
   "metadata": {},
   "outputs": [
    {
     "name": "stdout",
     "output_type": "stream",
     "text": [
      "navyblue navyblue\n",
      "3 3\n"
     ]
    }
   ],
   "source": [
    "print(m1.color, m2.color)\n",
    "print(m1.doors, m2.doors)"
   ]
  },
  {
   "cell_type": "markdown",
   "id": "f70f6282",
   "metadata": {},
   "source": [
    "### Detour: zip() function"
   ]
  },
  {
   "cell_type": "code",
   "execution_count": 57,
   "metadata": {},
   "outputs": [
    {
     "data": {
      "text/plain": [
       "[('color', 'navyblue'), ('doors', 3)]"
      ]
     },
     "execution_count": 57,
     "metadata": {},
     "output_type": "execute_result"
    }
   ],
   "source": [
    "list(zip(attribs, values))"
   ]
  },
  {
   "cell_type": "markdown",
   "id": "6b752ad8",
   "metadata": {},
   "source": [
    "Also, `getattr()` has a more forgiving interface for handling missing attributes. Instead of the `try` / `except` handling approach below, `getattr()` allows you to specify a default argument to handle exceptions for when the attribute doesn't exist. It makes the code simpler to interpret."
   ]
  },
  {
   "cell_type": "code",
   "execution_count": 58,
   "metadata": {},
   "outputs": [
    {
     "ename": "AttributeError",
     "evalue": "'MercedezBenz' object has no attribute 'wingspan'",
     "output_type": "error",
     "traceback": [
      "\u001b[31m---------------------------------------------------------------------------\u001b[39m",
      "\u001b[31mAttributeError\u001b[39m                            Traceback (most recent call last)",
      "\u001b[36mCell\u001b[39m\u001b[36m \u001b[39m\u001b[32mIn[58]\u001b[39m\u001b[32m, line 1\u001b[39m\n\u001b[32m----> \u001b[39m\u001b[32m1\u001b[39m \u001b[43mm2\u001b[49m\u001b[43m.\u001b[49m\u001b[43mwingspan\u001b[49m\n",
      "\u001b[31mAttributeError\u001b[39m: 'MercedezBenz' object has no attribute 'wingspan'"
     ]
    }
   ],
   "source": [
    "m2.wingspan"
   ]
  },
  {
   "cell_type": "code",
   "execution_count": 61,
   "metadata": {},
   "outputs": [
    {
     "name": "stdout",
     "output_type": "stream",
     "text": [
      "'MercedezBenz' object has no attribute 'wingspan'\n"
     ]
    }
   ],
   "source": [
    "try:\n",
    "    print(m2.wingspan)\n",
    "except AttributeError as e:\n",
    "    print(e)"
   ]
  },
  {
   "cell_type": "code",
   "execution_count": 62,
   "metadata": {},
   "outputs": [
    {
     "data": {
      "text/plain": [
       "'No Attribute Found'"
      ]
     },
     "execution_count": 62,
     "metadata": {},
     "output_type": "execute_result"
    }
   ],
   "source": [
    "getattr(m2, \"wingspan\", \"No Attribute Found\")"
   ]
  },
  {
   "cell_type": "markdown",
   "id": "52f1b51f",
   "metadata": {},
   "source": [
    "### Revisiting self"
   ]
  },
  {
   "cell_type": "markdown",
   "id": "55faf0d8",
   "metadata": {},
   "source": [
    "`self` is an important concept that we need to get familiar with very early on. So let's revisit."
   ]
  },
  {
   "cell_type": "markdown",
   "id": "07edb724",
   "metadata": {},
   "source": [
    "As mentioned earlier, `self` represents an *instance* of the class. When we define a method within a class body, Python by default assumes it is an *instance* method. As an instance method, it is bound  in such a way that *the first argument is **always** the instance itself.*"
   ]
  },
  {
   "cell_type": "markdown",
   "id": "3cd39618",
   "metadata": {},
   "source": [
    "Below, I added a new function `auto_drive()`. Note that I did not explicitly include `self` as the first (default) parameter. Technically, it's stil valid Python, but not specifying `self` creates an issue in the next step."
   ]
  },
  {
   "cell_type": "code",
   "execution_count": 71,
   "metadata": {},
   "outputs": [],
   "source": [
    "class MercedezBenz:\n",
    "    doors = 4\n",
    "    wheels = 4\n",
    "    model = \"G\"\n",
    "\n",
    "    def __init__(self, color=\"black\"):\n",
    "        self.color = color\n",
    "\n",
    "    def drive(self):\n",
    "        return f\"A Mercedez is driving. And it is {self}\\n\"\n",
    "    \n",
    "    def auto_drive():\n",
    "        return \"Auto-driving for now...\""
   ]
  },
  {
   "cell_type": "markdown",
   "id": "ee176562",
   "metadata": {},
   "source": [
    "For example, suppose I create a new instance of the Mercedez. A pink one (nice!)"
   ]
  },
  {
   "cell_type": "code",
   "execution_count": 72,
   "metadata": {},
   "outputs": [],
   "source": [
    "m1 = MercedezBenz('pink')"
   ]
  },
  {
   "cell_type": "markdown",
   "id": "1a734009",
   "metadata": {},
   "source": [
    "If I call the `auto_drive()` function, and pass it no arguments, Python tells me that I gave it a positional argument and that the function takes *zero* positional arguments. This is because `auto_drive` is an instance method, and instance methods always receive `self` as their first positional argument. "
   ]
  },
  {
   "cell_type": "code",
   "execution_count": 73,
   "id": "678c2ef1",
   "metadata": {},
   "outputs": [
    {
     "ename": "TypeError",
     "evalue": "MercedezBenz.auto_drive() takes 0 positional arguments but 1 was given",
     "output_type": "error",
     "traceback": [
      "\u001b[31m---------------------------------------------------------------------------\u001b[39m",
      "\u001b[31mTypeError\u001b[39m                                 Traceback (most recent call last)",
      "\u001b[36mCell\u001b[39m\u001b[36m \u001b[39m\u001b[32mIn[73]\u001b[39m\u001b[32m, line 1\u001b[39m\n\u001b[32m----> \u001b[39m\u001b[32m1\u001b[39m \u001b[43mm1\u001b[49m\u001b[43m.\u001b[49m\u001b[43mauto_drive\u001b[49m\u001b[43m(\u001b[49m\u001b[43m)\u001b[49m\n",
      "\u001b[31mTypeError\u001b[39m: MercedezBenz.auto_drive() takes 0 positional arguments but 1 was given"
     ]
    }
   ],
   "source": [
    "m1.auto_drive()"
   ]
  },
  {
   "cell_type": "markdown",
   "id": "e49576af",
   "metadata": {},
   "source": [
    "To fix this, I simply add `self` to the method..."
   ]
  },
  {
   "cell_type": "code",
   "execution_count": null,
   "metadata": {},
   "outputs": [],
   "source": [
    "class MercedezBenz:\n",
    "    doors = 4\n",
    "    wheels = 4\n",
    "    model = \"G\"\n",
    "\n",
    "    def __init__(self, color=\"black\"):\n",
    "        self.color = color\n",
    "\n",
    "    def drive(self):\n",
    "        return f\"A Mercedez is driving. And it is {self}\\n\"\n",
    "    \n",
    "    def auto_drive(self):  # added `self`\n",
    "        return \"Auto-driving for now...\""
   ]
  },
  {
   "cell_type": "markdown",
   "id": "6cb71457",
   "metadata": {},
   "source": [
    "Reinstantiate my object..."
   ]
  },
  {
   "cell_type": "code",
   "execution_count": 81,
   "id": "1dcf97ac",
   "metadata": {},
   "outputs": [],
   "source": [
    "m1 = MercedezBenz('pink')"
   ]
  },
  {
   "cell_type": "markdown",
   "id": "f9acc791",
   "metadata": {},
   "source": [
    "And invoke the method again..."
   ]
  },
  {
   "cell_type": "code",
   "execution_count": 82,
   "metadata": {},
   "outputs": [
    {
     "data": {
      "text/plain": [
       "'Auto-driving for now...'"
      ]
     },
     "execution_count": 82,
     "metadata": {},
     "output_type": "execute_result"
    }
   ],
   "source": [
    "m1.auto_drive()"
   ]
  },
  {
   "cell_type": "markdown",
   "id": "1135f001",
   "metadata": {},
   "source": [
    "Let's compare the concept of `self` in Python to `this`, which is a similar concept from C# and Java. In those languages, `this` is a reserved keyword. In Python, `self` is not reserved; it is used by convention (historically, comes from Smalltalk). (In the method definition above, try replacing `self` with an arbitrary string. You'll see that the subsequent method call still works.)"
   ]
  },
  {
   "cell_type": "markdown",
   "id": "fbffc590",
   "metadata": {},
   "source": [
    "# Skills Challenge"
   ]
  },
  {
   "cell_type": "code",
   "execution_count": 84,
   "id": "a8e66d71",
   "metadata": {},
   "outputs": [
    {
     "name": "stdout",
     "output_type": "stream",
     "text": [
      "Hi, I'm Alice\n",
      "Hi, I'm Brian\n",
      "Hey there, my name isClayton\n",
      "Hey there, my name isDeirdre\n",
      "Hi, I'm Elon\n",
      "Hi, I'm Faye\n"
     ]
    }
   ],
   "source": [
    "from random import choice\n",
    "\n",
    "class Student:\n",
    "    educational_platform = 'Udemy'\n",
    "\n",
    "    def __init__(self, name, age=34):\n",
    "        self.name = name\n",
    "        self.age = age\n",
    "\n",
    "    def greet(self):\n",
    "        _greetings = [\n",
    "            \"Hi, I'm {}\",\n",
    "            \"Hey there, my name is{}\",\n",
    "            \"Hi. Oh, my name is {}\"\n",
    "        ]\n",
    "\n",
    "        greeting = choice(_greetings)\n",
    "\n",
    "        return greeting.format(self.name)\n",
    "    \n",
    "def class_create(student_names):\n",
    "    return [Student(name) for name in student_names]\n",
    "\n",
    "if __name__ == \"__main__\":\n",
    "    names = [\"Alice\", \"Brian\", \"Clayton\", \"Deirdre\", \"Elon\", \"Faye\"]\n",
    "\n",
    "    for student in class_create(names):\n",
    "        print(student.greet())"
   ]
  },
  {
   "cell_type": "markdown",
   "id": "259eb71b",
   "metadata": {},
   "source": [
    "### Static Methods vs. Class Methods"
   ]
  },
  {
   "cell_type": "markdown",
   "id": "79e65573",
   "metadata": {},
   "source": [
    "This is an example of a static method. (Note the `@staticmethod` decorator above the auto_drive function. You don't have to pass it a `self` argument because it's valid at both the class and instance level."
   ]
  },
  {
   "cell_type": "code",
   "execution_count": 89,
   "id": "6a1a7dcd",
   "metadata": {},
   "outputs": [],
   "source": [
    "class MercedezBenz:\n",
    "    doors = 4\n",
    "    wheels = 4\n",
    "    model = \"G\"\n",
    "\n",
    "    def __init__(self, color=\"black\"):\n",
    "        self.color = color\n",
    "\n",
    "    def drive(self):\n",
    "        return f\"A Mercedez is driving. And it is {self}\\n\"\n",
    "    \n",
    "    @staticmethod # now this method can be called either from the class or the instance\n",
    "    def auto_drive():\n",
    "        return \"Auto-driving for now...\""
   ]
  },
  {
   "cell_type": "code",
   "execution_count": 90,
   "id": "132df082",
   "metadata": {},
   "outputs": [],
   "source": [
    "m1 = MercedezBenz()"
   ]
  },
  {
   "cell_type": "markdown",
   "id": "1a20b6c2",
   "metadata": {},
   "source": [
    "Calling from the instance..."
   ]
  },
  {
   "cell_type": "code",
   "execution_count": 91,
   "id": "1e67ca79",
   "metadata": {},
   "outputs": [
    {
     "data": {
      "text/plain": [
       "'Auto-driving for now...'"
      ]
     },
     "execution_count": 91,
     "metadata": {},
     "output_type": "execute_result"
    }
   ],
   "source": [
    "m1.auto_drive()"
   ]
  },
  {
   "cell_type": "markdown",
   "id": "f273d187",
   "metadata": {},
   "source": [
    "Calling from the class..."
   ]
  },
  {
   "cell_type": "code",
   "execution_count": 92,
   "id": "f9977309",
   "metadata": {},
   "outputs": [
    {
     "data": {
      "text/plain": [
       "'Auto-driving for now...'"
      ]
     },
     "execution_count": 92,
     "metadata": {},
     "output_type": "execute_result"
    }
   ],
   "source": [
    "MercedezBenz.auto_drive()"
   ]
  },
  {
   "cell_type": "markdown",
   "id": "b57885f8",
   "metadata": {},
   "source": [
    "Now, let's compare to a class method. Either is callable from either the instance or class. The main difference is that a class method can be used to alter the state of the class at runtime. The static method is like a regular function (callable from anywhere inside the class), but it lives inside the namespace of the class. "
   ]
  },
  {
   "cell_type": "code",
   "execution_count": null,
   "id": "3d270283",
   "metadata": {},
   "outputs": [],
   "source": [
    "class MercedezBenz:\n",
    "    doors = 4\n",
    "    wheels = 4\n",
    "    model = \"G\"\n",
    "\n",
    "    def __init__(self, color=\"black\"):\n",
    "        self.color = color\n",
    "\n",
    "    def drive(self):\n",
    "        return f\"A Mercedez is driving. And it is {self}\\n\"\n",
    "    \n",
    "    @staticmethod # now this method can be called either from the class or the instance\n",
    "    def auto_drive():\n",
    "        return \"Auto-driving for now...\"\n",
    "    \n",
    "    @classmethod\n",
    "    def create_lease(cls): # by convention, use cls for 'class' \n",
    "        print(f\"A lease for {cls} will be created\")"
   ]
  },
  {
   "cell_type": "code",
   "execution_count": 95,
   "id": "0b48e677",
   "metadata": {},
   "outputs": [
    {
     "name": "stdout",
     "output_type": "stream",
     "text": [
      "A lease for <class '__main__.MercedezBenz'> will be created\n"
     ]
    }
   ],
   "source": [
    "MercedezBenz.create_lease()"
   ]
  },
  {
   "cell_type": "code",
   "execution_count": 97,
   "id": "7af29564",
   "metadata": {},
   "outputs": [],
   "source": [
    "m1 = MercedezBenz()"
   ]
  },
  {
   "cell_type": "code",
   "execution_count": 98,
   "id": "94bac2c0",
   "metadata": {},
   "outputs": [
    {
     "name": "stdout",
     "output_type": "stream",
     "text": [
      "A lease for <class '__main__.MercedezBenz'> will be created\n"
     ]
    }
   ],
   "source": [
    "m1.create_lease()"
   ]
  },
  {
   "cell_type": "markdown",
   "id": "581a5d9b",
   "metadata": {},
   "source": [
    "### Dunder Dict (\"\\_\\_dict\\_\\_\") \n",
    "\n",
    "All instance attributes are stored in an instance-specific mapping object. For instances, that mapping object is a plain python dictionary. It is accessed using `instance.__dict__` syntax."
   ]
  },
  {
   "cell_type": "code",
   "execution_count": 103,
   "id": "db12d7e1",
   "metadata": {},
   "outputs": [],
   "source": [
    "m1 = MercedezBenz(\"lavender\")\n",
    "m2 = MercedezBenz(\"cyan\")"
   ]
  },
  {
   "cell_type": "code",
   "execution_count": 104,
   "id": "ecf2539e",
   "metadata": {},
   "outputs": [
    {
     "name": "stdout",
     "output_type": "stream",
     "text": [
      "lavender\n",
      "cyan\n"
     ]
    }
   ],
   "source": [
    "print(m1.color)\n",
    "print(m2.color)"
   ]
  },
  {
   "cell_type": "code",
   "execution_count": 105,
   "id": "c567b5f8",
   "metadata": {},
   "outputs": [
    {
     "name": "stdout",
     "output_type": "stream",
     "text": [
      "{'color': 'lavender'}\n",
      "{'color': 'cyan'}\n"
     ]
    }
   ],
   "source": [
    "print(m1.__dict__)\n",
    "print(m2.__dict__)"
   ]
  },
  {
   "cell_type": "code",
   "execution_count": 106,
   "id": "5cf45469",
   "metadata": {},
   "outputs": [],
   "source": [
    "m2.horse_power = 490"
   ]
  },
  {
   "cell_type": "code",
   "execution_count": 109,
   "id": "527ce88a",
   "metadata": {},
   "outputs": [
    {
     "name": "stdout",
     "output_type": "stream",
     "text": [
      "{'color': 'lavender'}\n",
      "{'color': 'cyan', 'horse_power': 490}\n"
     ]
    }
   ],
   "source": [
    "print(m1.__dict__)\n",
    "print(m2.__dict__)"
   ]
  },
  {
   "cell_type": "code",
   "execution_count": 110,
   "id": "cacd98eb",
   "metadata": {},
   "outputs": [],
   "source": [
    "m1.__dict__[\"horse_power\"] = 290"
   ]
  },
  {
   "cell_type": "code",
   "execution_count": 111,
   "id": "2b63a3a1",
   "metadata": {},
   "outputs": [
    {
     "data": {
      "text/plain": [
       "290"
      ]
     },
     "execution_count": 111,
     "metadata": {},
     "output_type": "execute_result"
    }
   ],
   "source": [
    "m1.horse_power"
   ]
  },
  {
   "cell_type": "markdown",
   "id": "9925ff03",
   "metadata": {},
   "source": [
    "Just like instances, classes have their own attribute namespace. In fact, \\_\\_dict\\_\\_ is a *class* attribute. But note that it is *not* a simple dictionary. It is a mappingproxy, a more restricted type of read-only dictionary where all the keys are strings. The class \\_\\_dict\\_\\_ contains all the instance class, and static methods we define, in addition to class variables. It also contains some descriptors and other class dunders."
   ]
  },
  {
   "cell_type": "code",
   "execution_count": 112,
   "id": "e739a65f",
   "metadata": {},
   "outputs": [
    {
     "data": {
      "text/plain": [
       "mappingproxy({'__module__': '__main__',\n",
       "              'doors': 4,\n",
       "              'wheels': 4,\n",
       "              'model': 'G',\n",
       "              '__init__': <function __main__.MercedezBenz.__init__(self, color='black')>,\n",
       "              'drive': <function __main__.MercedezBenz.drive(self)>,\n",
       "              'auto_drive': <staticmethod(<function MercedezBenz.auto_drive at 0x72d906bc1440>)>,\n",
       "              'create_lease': <classmethod(<function MercedezBenz.create_lease at 0x72d906bc19e0>)>,\n",
       "              '__dict__': <attribute '__dict__' of 'MercedezBenz' objects>,\n",
       "              '__weakref__': <attribute '__weakref__' of 'MercedezBenz' objects>,\n",
       "              '__doc__': None})"
      ]
     },
     "execution_count": 112,
     "metadata": {},
     "output_type": "execute_result"
    }
   ],
   "source": [
    "MercedezBenz.__dict__"
   ]
  },
  {
   "cell_type": "code",
   "execution_count": 113,
   "id": "d3d7e72e",
   "metadata": {},
   "outputs": [
    {
     "data": {
      "text/plain": [
       "mappingproxy"
      ]
     },
     "execution_count": 113,
     "metadata": {},
     "output_type": "execute_result"
    }
   ],
   "source": [
    "type(MercedezBenz.__dict__)"
   ]
  },
  {
   "cell_type": "code",
   "execution_count": 114,
   "id": "51ff8148",
   "metadata": {},
   "outputs": [
    {
     "data": {
      "text/plain": [
       "{'color': 'lavender', 'horse_power': 290}"
      ]
     },
     "execution_count": 114,
     "metadata": {},
     "output_type": "execute_result"
    }
   ],
   "source": [
    "m1.__dict__"
   ]
  },
  {
   "cell_type": "markdown",
   "id": "4ee8b64f",
   "metadata": {},
   "source": [
    "Here's what's happening in the call above:\n",
    "1. At the instance level, Python says 'Get attribute by name of \"\\_\\_dict\\_\\_\".'\n",
    "2. Python goes looking for it in the instance namespace... \n",
    "3. Finding none, it goes looking in the class namespace. \n",
    "4. It finds \"\\_\\_dict\\_\\_\" there.\n",
    "4. \\_\\_dict\\_\\_ points to a descriptor whose `get()` function is called...\n",
    "6. `get()` returns a dictionary\n"
   ]
  },
  {
   "cell_type": "markdown",
   "id": "84032d7b",
   "metadata": {},
   "source": [
    "### Access Control\n",
    "\n",
    "The default in Python is to have all attributes as publicly accessible, so there is no access control in the classical sense. you shouldn't define getters and setters, unless you have a good reason to do so. This is not a bug or a missing feature. It's a language design decision that aligns with the Uniform Access Principle and it's something that gives Python a much more expressive syntax. There's really no lossa of functionality either, because specific logic around getting, setting, or deleting attributes could be implemented through properties while maintaining exactly the same syntax."
   ]
  },
  {
   "cell_type": "code",
   "execution_count": 115,
   "id": "d428cc02",
   "metadata": {},
   "outputs": [],
   "source": [
    "m1= MercedezBenz(\"lavender\")"
   ]
  },
  {
   "cell_type": "code",
   "execution_count": 116,
   "metadata": {},
   "outputs": [],
   "source": [
    "m1.doors += 1"
   ]
  },
  {
   "cell_type": "code",
   "execution_count": 118,
   "metadata": {},
   "outputs": [],
   "source": [
    "m1.doors = \"Mike\""
   ]
  },
  {
   "cell_type": "code",
   "execution_count": 117,
   "id": "a65daf11",
   "metadata": {},
   "outputs": [],
   "source": [
    "m1.doors = 1.2"
   ]
  },
  {
   "cell_type": "markdown",
   "id": "8d0675a6",
   "metadata": {},
   "source": [
    "### Docstrings\n",
    "\n",
    "Python docstrings are strings written as the first statement of a class, function or module. The Python compiler binds them to the __doc__ attribute of the object, and they are also reflected in help()."
   ]
  },
  {
   "cell_type": "code",
   "execution_count": 119,
   "id": "9acef123",
   "metadata": {},
   "outputs": [
    {
     "name": "stdout",
     "output_type": "stream",
     "text": [
      "Help on built-in function getattr in module builtins:\n",
      "\n",
      "getattr(...)\n",
      "    Get a named attribute from an object.\n",
      "\n",
      "    getattr(x, 'y') is equivalent to x.y\n",
      "    When a default argument is given, it is returned when the attribute doesn't\n",
      "    exist; without it, an exception is raised in that case.\n",
      "\n"
     ]
    }
   ],
   "source": [
    "help(getattr)"
   ]
  },
  {
   "cell_type": "code",
   "execution_count": 123,
   "id": "c5f6cb6f",
   "metadata": {},
   "outputs": [],
   "source": [
    "class Tire:\n",
    "    # Comments are for local use. Notice that they don't appear in the docstring.\n",
    "    \"\"\"Defines an automobile tire object.\n",
    "\n",
    "    :param kind: the kind of tire, e.g. operational, spare, or winter\n",
    "    :param distance_covered: the distance in miles the tire has covered\n",
    "    \"\"\"\n",
    "\n",
    "    def __init__(self, kind, distance_covered):\n",
    "        self.kind = kind\n",
    "        self.distance_covered = distance_covered"
   ]
  },
  {
   "cell_type": "code",
   "execution_count": 124,
   "id": "086e3ef5",
   "metadata": {},
   "outputs": [
    {
     "name": "stdout",
     "output_type": "stream",
     "text": [
      "Help on class Tire in module __main__:\n",
      "\n",
      "class Tire(builtins.object)\n",
      " |  Tire(kind, distance_covered)\n",
      " |\n",
      " |  Defines an automobile tire object.\n",
      " |\n",
      " |  :param kind: the kind of tire, e.g. operational, spare, or winter\n",
      " |  :param distance_covered: the distance in miles the tire has covered\n",
      " |\n",
      " |  Methods defined here:\n",
      " |\n",
      " |  __init__(self, kind, distance_covered)\n",
      " |      Initialize self.  See help(type(self)) for accurate signature.\n",
      " |\n",
      " |  ----------------------------------------------------------------------\n",
      " |  Data descriptors defined here:\n",
      " |\n",
      " |  __dict__\n",
      " |      dictionary for instance variables\n",
      " |\n",
      " |  __weakref__\n",
      " |      list of weak references to the object\n",
      "\n"
     ]
    }
   ],
   "source": [
    "help(Tire)"
   ]
  },
  {
   "cell_type": "markdown",
   "id": "3b23957a",
   "metadata": {},
   "source": [
    "# Skills Challenge\n",
    "\n",
    "Here's what you get when you import `ascii_letters` and `punctuation`:"
   ]
  },
  {
   "cell_type": "code",
   "execution_count": 128,
   "id": "2759cad1",
   "metadata": {},
   "outputs": [
    {
     "name": "stdout",
     "output_type": "stream",
     "text": [
      "abcdefghijklmnopqrstuvwxyzABCDEFGHIJKLMNOPQRSTUVWXYZ\n",
      "!\"#$%&'()*+,-./:;<=>?@[\\]^_`{|}~\n"
     ]
    }
   ],
   "source": [
    "from string import ascii_letters, punctuation\n",
    "print(ascii_letters)\n",
    "print(punctuation)"
   ]
  },
  {
   "cell_type": "code",
   "execution_count": 138,
   "id": "ed0b33a3",
   "metadata": {},
   "outputs": [
    {
     "name": "stdout",
     "output_type": "stream",
     "text": [
      "Weak password:COLCmAlu\n",
      "Mid password:XoMg1FUfIInXiN2OgcZCrDJEe4ingHgn8JG92Qz0G6Nnqhsa\n",
      "High password:{8d[bK6\"dP.1lioa\n",
      "Default password:SwWsCwdKNiUm\n"
     ]
    }
   ],
   "source": [
    "from string import ascii_letters, punctuation\n",
    "from random import choices\n",
    "from copy import copy\n",
    "\n",
    "\n",
    "class Password:\n",
    "    \"\"\"A password of customize strength and length.\n",
    "    \n",
    "    Encapsulate a randomly generated password depending on the user-specified strength and length, where the latter \n",
    "    is optional and automatically set depending on the strength (low ->8, mid ->12, high ->16. If a length is \n",
    "    user-specified these presets are overriden regardless of the strength.\n",
    "    \n",
    "    :param strength: a measure of the password's effectiveness against brute-force guessing\n",
    "    :type strength: str, optional\n",
    "\n",
    "    :param length: the length of the password\n",
    "    :type length: int, optional\n",
    "    \"\"\"\n",
    "    \n",
    "    INPUT_UNIVERSE = {\n",
    "        \"numbers\": list(range(10)),\n",
    "        \"letters\": list(ascii_letters),\n",
    "        \"punctuation\": list(punctuation)\n",
    "}\n",
    "\n",
    "    DEFAULT_LENGTHS = {\n",
    "        \"low\": 8,\n",
    "        \"mid\": 12,\n",
    "        \"high\": 16\n",
    "}\n",
    "\n",
    "    @classmethod\n",
    "    def show_input_universe(cls):\n",
    "        \"\"\"Return the complete input universe from which characters are sampled\n",
    "        \n",
    "        :return: The univers of characters from which random sampling is done to generate passwords\n",
    "        :rtype: dict (of list-s)\"\"\"\n",
    "\n",
    "        return cls.INPUT_UNIVERSE\n",
    "\n",
    "    def __init__(self, strength=\"mid\", length=None):\n",
    "            \"\"\"Constructor method\"\"\"\n",
    "            self.strength = strength\n",
    "            self.length = length\n",
    "\n",
    "            self._generate()\n",
    "\n",
    "    def _generate(self):\n",
    "        \"\"\"Generates the password according to the strength and length specified at initialization\n",
    "        \n",
    "        :return: the randomly generated passord\n",
    "        :rtype: str\n",
    "        \"\"\"\n",
    "      \n",
    "        population = copy(self.INPUT_UNIVERSE[\"letters\"])\n",
    "        length = self.length or self.DEFAULT_LENGTHS.get(self.strength)\n",
    "\n",
    "        if self.strength == \"high\":\n",
    "            population += self.INPUT_UNIVERSE[\"numbers\"] + self.INPUT_UNIVERSE[\"punctuation\"]\n",
    "        else:\n",
    "            population += self.INPUT_UNIVERSE[\"numbers\"]\n",
    "        \n",
    "        self.password = \"\".join(list(map(str, choices(population, k=length))))\n",
    "    \n",
    "if __name__ == \"__main__\":\n",
    "     p_weak = Password(strength=\"low\")\n",
    "     print(\"Weak password:\" + p_weak.password)\n",
    "\n",
    "     p_mid = Password(strength=\"mid\", length=48)\n",
    "     print(\"Mid password:\" + p_mid.password)\n",
    "\n",
    "     p_high = Password(strength=\"high\")\n",
    "     print(\"High password:\" + p_high.password)\n",
    "\n",
    "     p_default = Password()\n",
    "     print(\"Default password:\" + p_default.password)"
   ]
  }
 ],
 "metadata": {
  "kernelspec": {
   "display_name": "Python 3",
   "language": "python",
   "name": "python3"
  },
  "language_info": {
   "codemirror_mode": {
    "name": "ipython",
    "version": 3
   },
   "file_extension": ".py",
   "mimetype": "text/x-python",
   "name": "python",
   "nbconvert_exporter": "python",
   "pygments_lexer": "ipython3",
   "version": "3.12.1"
  }
 },
 "nbformat": 4,
 "nbformat_minor": 5
}
