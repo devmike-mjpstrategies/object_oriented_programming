{
 "cells": [
  {
   "cell_type": "markdown",
   "id": "51496599",
   "metadata": {},
   "source": [
    "### Container Classes\n",
    "\n",
    "Classes can act as container abstractions for other classees. This lesson is the beginning of composition, which involves a class that references and supports logic related to another class. We will build a container class for our Book instances that is capacity-aware and type-aware.\n"
   ]
  },
  {
   "cell_type": "code",
   "execution_count": 2,
   "id": "9a6fe510",
   "metadata": {},
   "outputs": [],
   "source": [
    "from functools import total_ordering\n",
    "\n",
    "\n",
    "@total_ordering\n",
    "class Book:\n",
    "    def __init__(self, title, author, book_type, pages):\n",
    "        self.title = title\n",
    "        self.author = author\n",
    "        self.book_type = book_type\n",
    "        self.pages = pages\n",
    "\n",
    "    def __repr__(self):\n",
    "        return f\"Book('{self.title}', '{self.author}', '{self.book_type}', {self.pages})\"\n",
    "\n",
    "    def __eq__(self, other):\n",
    "        if not isinstance(other, Book):\n",
    "            return False\n",
    "\n",
    "        return self.title == other.title and self.author == other.author\n",
    "\n",
    "    def __gt__(self, other):\n",
    "        if not isinstance(other, Book):\n",
    "            return NotImplemented\n",
    "\n",
    "        return self.pages > other.pages\n",
    "\n",
    "    def __hash__(self):\n",
    "        return hash((self.title, self.author))\n",
    "\n",
    "    def __bool__(self):\n",
    "        return  bool(self.pages) and not (self.pages < 1)"
   ]
  },
  {
   "cell_type": "code",
   "execution_count": 14,
   "id": "feaddf0d",
   "metadata": {},
   "outputs": [],
   "source": [
    "class BookShelf:\n",
    "    def __init__(self, capacity):\n",
    "        self.books = []\n",
    "        self.capacity = capacity\n",
    "\n",
    "    def add_book(self, book):\n",
    "        if not isinstance(book, Book):\n",
    "            raise TypeError(\"Only instances of Book could be added to the Bookshelf.\")\n",
    "        \n",
    "        if not self.capacity > len(self.books):\n",
    "            raise OverflowError(\"Bookshelf is full.\")\n",
    "        \n",
    "        self.books.append(book)\n",
    "\n",
    "    def __repr__(self):\n",
    "        return str(self.books)"
   ]
  },
  {
   "cell_type": "code",
   "execution_count": 15,
   "id": "305e9a23",
   "metadata": {},
   "outputs": [],
   "source": [
    "shelf = BookShelf(capacity=10)"
   ]
  },
  {
   "cell_type": "code",
   "execution_count": 16,
   "id": "97f296e2",
   "metadata": {},
   "outputs": [],
   "source": [
    "b1 = Book(\"Homo Empathicus\", \"Alexander Gorlach\", \"Paperback\", 160)\n",
    "b2 = Book(\"Titan\", \"Ron Chernow\", \"Hardcover\", 832)\n",
    "b3 = Book(\"The Circle\", \"Dave Eggers\", \"Paperback\", 497)\n",
    "b4 = Book(\"Homo Deus\", \"Yuval Noah Harari\", \"Paperback\", 464)"
   ]
  },
  {
   "cell_type": "code",
   "execution_count": 17,
   "id": "91c90d9d",
   "metadata": {},
   "outputs": [],
   "source": [
    "shelf.add_book(b1)"
   ]
  },
  {
   "cell_type": "code",
   "execution_count": 18,
   "id": "ad1f90a5",
   "metadata": {},
   "outputs": [],
   "source": [
    "shelf.add_book(b2)"
   ]
  },
  {
   "cell_type": "code",
   "execution_count": 19,
   "id": "fb5b83d2",
   "metadata": {},
   "outputs": [
    {
     "data": {
      "text/plain": [
       "[Book('Homo Empathicus', 'Alexander Gorlach', 'Paperback', 160), Book('Titan', 'Ron Chernow', 'Hardcover', 832)]"
      ]
     },
     "execution_count": 19,
     "metadata": {},
     "output_type": "execute_result"
    }
   ],
   "source": [
    "shelf"
   ]
  },
  {
   "cell_type": "code",
   "execution_count": null,
   "id": "6eb3cd0f",
   "metadata": {},
   "outputs": [],
   "source": []
  }
 ],
 "metadata": {
  "kernelspec": {
   "display_name": "Python 3",
   "language": "python",
   "name": "python3"
  },
  "language_info": {
   "codemirror_mode": {
    "name": "ipython",
    "version": 3
   },
   "file_extension": ".py",
   "mimetype": "text/x-python",
   "name": "python",
   "nbconvert_exporter": "python",
   "pygments_lexer": "ipython3",
   "version": "3.12.1"
  }
 },
 "nbformat": 4,
 "nbformat_minor": 5
}
