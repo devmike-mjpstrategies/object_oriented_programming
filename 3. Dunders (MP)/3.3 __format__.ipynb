{
 "cells": [
  {
   "cell_type": "markdown",
   "id": "aa107e17",
   "metadata": {},
   "source": [
    "# `__format__`\n",
    "Allows us to customize how our objects will be string-formatted."
   ]
  },
  {
   "cell_type": "code",
   "execution_count": 1,
   "id": "b7d4f71f",
   "metadata": {},
   "outputs": [],
   "source": [
    "class Book:\n",
    "    def __init__(self, title, author, book_type, pages):\n",
    "        self.title = title\n",
    "        self.author = author\n",
    "        self.book_type = book_type\n",
    "        self.pages = pages\n",
    "\n",
    "    def __repr__(self):\n",
    "        return f\"Book('{self.title}', '{self.author}', '{self.book_type}', {self.pages})\"\n",
    "    \n",
    "b = Book(\"Antifragile\", \"Nassim Taleb\", \"Hardcover\", 519)"
   ]
  },
  {
   "cell_type": "markdown",
   "id": "90e105c3",
   "metadata": {},
   "source": [
    "If we call the string literal of our object, Python returns the `__repr__` object as a fallback because we don't have a `__str__` function defined."
   ]
  },
  {
   "cell_type": "code",
   "execution_count": 2,
   "id": "3abff88e",
   "metadata": {},
   "outputs": [
    {
     "data": {
      "text/plain": [
       "\"Book('Antifragile', 'Nassim Taleb', 'Hardcover', 519)\""
      ]
     },
     "execution_count": 2,
     "metadata": {},
     "output_type": "execute_result"
    }
   ],
   "source": [
    "f\"{b}\""
   ]
  },
  {
   "cell_type": "markdown",
   "id": "b079232f",
   "metadata": {},
   "source": [
    "The following  three are equivalent. Can we get the same flexibility when we create objects? Spoiler: Yes, when we use `__format__`"
   ]
  },
  {
   "cell_type": "code",
   "execution_count": 4,
   "id": "9fce72dc",
   "metadata": {},
   "outputs": [
    {
     "data": {
      "text/plain": [
       "'100.000'"
      ]
     },
     "execution_count": 4,
     "metadata": {},
     "output_type": "execute_result"
    }
   ],
   "source": [
    "f\"{100:.3f}\""
   ]
  },
  {
   "cell_type": "code",
   "execution_count": 7,
   "id": "371f9ad2",
   "metadata": {},
   "outputs": [
    {
     "data": {
      "text/plain": [
       "'100.000'"
      ]
     },
     "execution_count": 7,
     "metadata": {},
     "output_type": "execute_result"
    }
   ],
   "source": [
    "format(100, '.3f')"
   ]
  },
  {
   "cell_type": "code",
   "execution_count": 8,
   "id": "dd9af440",
   "metadata": {},
   "outputs": [
    {
     "data": {
      "text/plain": [
       "'100.000'"
      ]
     },
     "execution_count": 8,
     "metadata": {},
     "output_type": "execute_result"
    }
   ],
   "source": [
    "\"{:.3f}\".format(100)"
   ]
  },
  {
   "cell_type": "markdown",
   "id": "21bb09ac",
   "metadata": {},
   "source": [
    "So, let's see how this works with `__format__`"
   ]
  },
  {
   "cell_type": "code",
   "execution_count": 20,
   "id": "10f272f5",
   "metadata": {},
   "outputs": [],
   "source": [
    "class Book:\n",
    "    def __init__(self, title, author, book_type, pages):\n",
    "        self.title = title\n",
    "        self.author = author\n",
    "        self.book_type = book_type\n",
    "        self.pages = pages\n",
    "\n",
    "    def __repr__(self):\n",
    "        return f\"Book('{self.title}', '{self.author}', '{self.book_type}', {self.pages})\"\n",
    "    \n",
    "    def __format__(self, format_spec):\n",
    "        if format_spec == \"short\":\n",
    "            return f\"{self.title} - {self.author}\"\n",
    "        elif format_spec == \"stealth\":\n",
    "            return f\"A book containing exactly {self.pages}. Guess?\"\n",
    "        \n",
    "        return repr(self)\n",
    "    \n",
    "b = Book(\"Antifragile\", \"Nassim Taleb\", \"Hardcover\", 519)"
   ]
  },
  {
   "cell_type": "code",
   "execution_count": 21,
   "id": "ccf2ef04",
   "metadata": {},
   "outputs": [
    {
     "data": {
      "text/plain": [
       "\"Book('Antifragile', 'Nassim Taleb', 'Hardcover', 519)\""
      ]
     },
     "execution_count": 21,
     "metadata": {},
     "output_type": "execute_result"
    }
   ],
   "source": [
    "f\"{b}\""
   ]
  },
  {
   "cell_type": "code",
   "execution_count": 22,
   "id": "65d3fe02",
   "metadata": {},
   "outputs": [
    {
     "data": {
      "text/plain": [
       "'Antifragile - Nassim Taleb'"
      ]
     },
     "execution_count": 22,
     "metadata": {},
     "output_type": "execute_result"
    }
   ],
   "source": [
    "f\"{b:short}\""
   ]
  },
  {
   "cell_type": "code",
   "execution_count": 23,
   "id": "452bfa2c",
   "metadata": {},
   "outputs": [
    {
     "data": {
      "text/plain": [
       "'A book containing exactly 519. Guess?'"
      ]
     },
     "execution_count": 23,
     "metadata": {},
     "output_type": "execute_result"
    }
   ],
   "source": [
    "f\"{b:stealth}\""
   ]
  },
  {
   "cell_type": "code",
   "execution_count": 25,
   "id": "aadfc19d",
   "metadata": {},
   "outputs": [
    {
     "data": {
      "text/plain": [
       "'Antifragile - Nassim Taleb'"
      ]
     },
     "execution_count": 25,
     "metadata": {},
     "output_type": "execute_result"
    }
   ],
   "source": [
    "\"{:short}\".format(b)"
   ]
  },
  {
   "cell_type": "code",
   "execution_count": 26,
   "id": "80b34c96",
   "metadata": {},
   "outputs": [
    {
     "data": {
      "text/plain": [
       "'A book containing exactly 519. Guess?'"
      ]
     },
     "execution_count": 26,
     "metadata": {},
     "output_type": "execute_result"
    }
   ],
   "source": [
    "\"{:stealth}\".format(b)"
   ]
  },
  {
   "cell_type": "code",
   "execution_count": 27,
   "id": "d26307a7",
   "metadata": {},
   "outputs": [
    {
     "data": {
      "text/plain": [
       "'A book containing exactly 519. Guess?'"
      ]
     },
     "execution_count": 27,
     "metadata": {},
     "output_type": "execute_result"
    }
   ],
   "source": [
    "format(b, \"stealth\")"
   ]
  }
 ],
 "metadata": {
  "kernelspec": {
   "display_name": "Python 3",
   "language": "python",
   "name": "python3"
  },
  "language_info": {
   "codemirror_mode": {
    "name": "ipython",
    "version": 3
   },
   "file_extension": ".py",
   "mimetype": "text/x-python",
   "name": "python",
   "nbconvert_exporter": "python",
   "pygments_lexer": "ipython3",
   "version": "3.12.1"
  }
 },
 "nbformat": 4,
 "nbformat_minor": 5
}
