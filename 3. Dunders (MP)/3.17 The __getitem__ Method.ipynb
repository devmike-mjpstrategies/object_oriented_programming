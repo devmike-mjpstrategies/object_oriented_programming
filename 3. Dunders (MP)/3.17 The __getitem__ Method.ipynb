{
 "cells": [
  {
   "cell_type": "code",
   "execution_count": 1,
   "id": "bca7b3c5",
   "metadata": {},
   "outputs": [],
   "source": [
    "from functools import total_ordering\n",
    "\n",
    "\n",
    "@total_ordering\n",
    "class Book:\n",
    "    def __init__(self, title, author, book_type, pages):\n",
    "        self.title = title\n",
    "        self.author = author\n",
    "        self.book_type = book_type\n",
    "        self.pages = pages\n",
    "\n",
    "    def __repr__(self):\n",
    "        return f\"Book('{self.title}', '{self.author}', '{self.book_type}', {self.pages})\"\n",
    "\n",
    "    def __eq__(self, other):\n",
    "        if not isinstance(other, Book):\n",
    "            return False\n",
    "\n",
    "        return self.title == other.title and self.author == other.author\n",
    "\n",
    "    def __gt__(self, other):\n",
    "        if not isinstance(other, Book):\n",
    "            return NotImplemented\n",
    "\n",
    "        return self.pages > other.pages\n",
    "\n",
    "    def __hash__(self):\n",
    "        return hash((self.title, self.author))\n",
    "\n",
    "    # def __bool__(self):\n",
    "    #     return bool(self.pages) and not (self.pages < 1)\n",
    "\n",
    "    def __len__(self):\n",
    "        return self.pages if self.pages > 0 else 0"
   ]
  },
  {
   "cell_type": "code",
   "execution_count": 3,
   "id": "882c4e5e",
   "metadata": {},
   "outputs": [],
   "source": [
    "## `The __getitem__ Magic`\n",
    "class BookShelf:\n",
    "    def __init__(self, capacity):\n",
    "        self.books = []\n",
    "        self.capacity = capacity\n",
    "\n",
    "    def add_book(self, book):\n",
    "        if not isinstance(book, Book):\n",
    "            raise TypeError(\"Only instances of Book could be added to the BookShelf\")\n",
    "\n",
    "        if not self.capacity > len(self.books):\n",
    "            raise OverflowError(\"BookShelf is full\")\n",
    "\n",
    "        self.books.append(book)\n",
    "\n",
    "    def __repr__(self):\n",
    "        return str(self.books)\n",
    "\n",
    "    def __add__(self, other):\n",
    "        if not isinstance(other, Book):\n",
    "            raise TypeError(\"Operating only supported on instances of Book\")\n",
    "\n",
    "        new_shelf = BookShelf(self.capacity)\n",
    "\n",
    "        for book in self.books:\n",
    "            new_shelf.add_book(book)\n",
    "\n",
    "        new_shelf.add_book(other)\n",
    "\n",
    "        return new_shelf\n",
    "\n",
    "    def __radd__(self, other):\n",
    "        if not isinstance(other, Book):\n",
    "            raise TypeError(\"Operating only supported on instances of Book\")\n",
    "\n",
    "        return self + other\n",
    "\n",
    "    def __getitem__(self, item):\n",
    "        if isinstance(item, str):\n",
    "            return [book for book in self.books if item.lower() in book.title.lower()]\n",
    "\n",
    "        return self.books[item]\n"
   ]
  },
  {
   "cell_type": "code",
   "execution_count": 4,
   "id": "27d265f5",
   "metadata": {},
   "outputs": [
    {
     "data": {
      "text/plain": [
       "[Book('Homo Empathicus', 'Alexander Gorlach', 'Paperback', 160), Book('Titan', 'Ron Chernow', 'Hardcover', 832), Book('The Circle', 'Dave Eggers', 'Paperback', 497), Book('Homo Deus', 'Yuval Noah Harari', 'Paperback', 464)]"
      ]
     },
     "execution_count": 4,
     "metadata": {},
     "output_type": "execute_result"
    }
   ],
   "source": [
    "b1 = Book(\"Homo Empathicus\", \"Alexander Gorlach\", \"Paperback\", 160)\n",
    "b2 = Book(\"Titan\", \"Ron Chernow\", \"Hardcover\", 832)\n",
    "b3 = Book(\"The Circle\", \"Dave Eggers\", \"Paperback\", 497)\n",
    "b4 = Book(\"Homo Deus\", \"Yuval Noah Harari\", \"Paperback\", 464)\n",
    "\n",
    "shelf = BookShelf(capacity=10)\n",
    "\n",
    "for b in [b1, b2, b3, b4]:\n",
    "    shelf += b\n",
    "\n",
    "shelf"
   ]
  },
  {
   "cell_type": "code",
   "execution_count": 5,
   "id": "f2ad44dd",
   "metadata": {},
   "outputs": [
    {
     "data": {
      "text/plain": [
       "Book('Homo Empathicus', 'Alexander Gorlach', 'Paperback', 160)"
      ]
     },
     "execution_count": 5,
     "metadata": {},
     "output_type": "execute_result"
    }
   ],
   "source": [
    "shelf[0]"
   ]
  },
  {
   "cell_type": "code",
   "execution_count": 6,
   "id": "1a6e78ef",
   "metadata": {},
   "outputs": [
    {
     "data": {
      "text/plain": [
       "[Book('Homo Empathicus', 'Alexander Gorlach', 'Paperback', 160),\n",
       " Book('Homo Deus', 'Yuval Noah Harari', 'Paperback', 464)]"
      ]
     },
     "execution_count": 6,
     "metadata": {},
     "output_type": "execute_result"
    }
   ],
   "source": [
    "shelf[\"Homo\"]\n"
   ]
  },
  {
   "cell_type": "code",
   "execution_count": 7,
   "id": "0362a085",
   "metadata": {},
   "outputs": [
    {
     "data": {
      "text/plain": [
       "[Book('The Circle', 'Dave Eggers', 'Paperback', 497),\n",
       " Book('Homo Deus', 'Yuval Noah Harari', 'Paperback', 464)]"
      ]
     },
     "execution_count": 7,
     "metadata": {},
     "output_type": "execute_result"
    }
   ],
   "source": [
    "shelf[2:4]"
   ]
  },
  {
   "cell_type": "code",
   "execution_count": 8,
   "id": "c45c2312",
   "metadata": {},
   "outputs": [
    {
     "name": "stdout",
     "output_type": "stream",
     "text": [
      "Book('Homo Empathicus', 'Alexander Gorlach', 'Paperback', 160)\n",
      "Book('Titan', 'Ron Chernow', 'Hardcover', 832)\n",
      "Book('The Circle', 'Dave Eggers', 'Paperback', 497)\n",
      "Book('Homo Deus', 'Yuval Noah Harari', 'Paperback', 464)\n"
     ]
    }
   ],
   "source": [
    "for book in shelf:\n",
    "    print(book)"
   ]
  },
  {
   "cell_type": "code",
   "execution_count": null,
   "id": "c83d5d20",
   "metadata": {},
   "outputs": [],
   "source": []
  }
 ],
 "metadata": {
  "kernelspec": {
   "display_name": "Python 3",
   "language": "python",
   "name": "python3"
  },
  "language_info": {
   "codemirror_mode": {
    "name": "ipython",
    "version": 3
   },
   "file_extension": ".py",
   "mimetype": "text/x-python",
   "name": "python",
   "nbconvert_exporter": "python",
   "pygments_lexer": "ipython3",
   "version": "3.12.1"
  }
 },
 "nbformat": 4,
 "nbformat_minor": 5
}
