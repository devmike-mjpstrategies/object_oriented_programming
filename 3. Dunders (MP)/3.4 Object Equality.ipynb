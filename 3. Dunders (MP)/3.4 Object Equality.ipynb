{
 "cells": [
  {
   "cell_type": "markdown",
   "id": "69844804",
   "metadata": {},
   "source": [
    "### Object Equality\n",
    "\n",
    "By default, instances of the same class in python are not equal."
   ]
  },
  {
   "cell_type": "code",
   "execution_count": null,
   "id": "64a7025e",
   "metadata": {},
   "outputs": [],
   "source": [
    "class Book:\n",
    "    def __init__(self, title, author, book_type, pages):\n",
    "        self.title = title\n",
    "        self.author = author\n",
    "        self.book_type = book_type\n",
    "        self.pages = pages\n",
    "\n",
    "    def __repr__(self):\n",
    "        return f\"Book('{self.title}', '{self.author}', '{self.book_type}', {self.pages})\""
   ]
  },
  {
   "cell_type": "markdown",
   "id": "d32d75bd",
   "metadata": {},
   "source": [
    "Here are two instances of the same class."
   ]
  },
  {
   "cell_type": "code",
   "execution_count": 2,
   "id": "81473bbd",
   "metadata": {},
   "outputs": [],
   "source": [
    "b = Book(\"Antifragile\", \"Nassim Taleb\", \"Hardcover\", 519)\n",
    "b2 = Book(\"Antifragile\", \"Nassim Taleb\", \"Hardcover\", 519)"
   ]
  },
  {
   "cell_type": "code",
   "execution_count": 3,
   "id": "f1dabcfb",
   "metadata": {},
   "outputs": [
    {
     "data": {
      "text/plain": [
       "False"
      ]
     },
     "execution_count": 3,
     "metadata": {},
     "output_type": "execute_result"
    }
   ],
   "source": [
    "b == b2"
   ]
  },
  {
   "cell_type": "code",
   "execution_count": 6,
   "id": "ffbe39bc",
   "metadata": {},
   "outputs": [
    {
     "name": "stdout",
     "output_type": "stream",
     "text": [
      "128168633493424\n",
      "128168633323584\n"
     ]
    }
   ],
   "source": [
    "print(id(b))\n",
    "print(id(b2))"
   ]
  },
  {
   "cell_type": "markdown",
   "id": "dc5df98d",
   "metadata": {},
   "source": [
    "We can customize object equality by defining `__eq__`."
   ]
  },
  {
   "cell_type": "code",
   "execution_count": 21,
   "id": "95b7baae",
   "metadata": {},
   "outputs": [],
   "source": [
    "class Book:\n",
    "    def __init__(self, title, author, book_type, pages):\n",
    "        self.title = title\n",
    "        self.author = author\n",
    "        self.book_type = book_type\n",
    "        self.pages = pages\n",
    "\n",
    "    def __repr__(self):\n",
    "        return f\"Book('{self.title}', '{self.author}', '{self.book_type}', {self.pages})\"\n",
    "    \n",
    "    def __eq__(self, other):\n",
    "        if not isinstance(other, Book):\n",
    "            return False\n",
    "        \n",
    "        return self.title == other.title and self.author == other.author"
   ]
  },
  {
   "cell_type": "code",
   "execution_count": 22,
   "id": "cf8d36e9",
   "metadata": {},
   "outputs": [],
   "source": [
    "b = Book(\"Antifragile\", \"Nassim Taleb\", \"Hardcover\", 519)\n",
    "b2 = Book(\"Antifragile\", \"Nassim Taleb\", \"Hardcover\", 519)"
   ]
  },
  {
   "cell_type": "code",
   "execution_count": 23,
   "id": "884995f5",
   "metadata": {},
   "outputs": [
    {
     "data": {
      "text/plain": [
       "True"
      ]
     },
     "execution_count": 23,
     "metadata": {},
     "output_type": "execute_result"
    }
   ],
   "source": [
    "b == b2"
   ]
  },
  {
   "cell_type": "code",
   "execution_count": 32,
   "id": "5372c6f2",
   "metadata": {},
   "outputs": [],
   "source": [
    "b = Book(\"Antifragile\", \"Nassim Taleb\", \"Hardcover\", 519)\n",
    "b2 = Book(\"Antifragile\", \"Nassim Taleb II\", \"Hardcover\", 519) #changed name from above!"
   ]
  },
  {
   "cell_type": "code",
   "execution_count": 20,
   "id": "1cd5018b",
   "metadata": {},
   "outputs": [
    {
     "data": {
      "text/plain": [
       "False"
      ]
     },
     "execution_count": 20,
     "metadata": {},
     "output_type": "execute_result"
    }
   ],
   "source": [
    "b == b2"
   ]
  },
  {
   "cell_type": "code",
   "execution_count": 26,
   "id": "a737e0c5",
   "metadata": {},
   "outputs": [],
   "source": [
    "from collections import namedtuple"
   ]
  },
  {
   "cell_type": "code",
   "execution_count": 28,
   "id": "3fe5e4ce",
   "metadata": {},
   "outputs": [],
   "source": [
    "essay = namedtuple(\"essay\", [\"title\", \"author\"])"
   ]
  },
  {
   "cell_type": "code",
   "execution_count": 29,
   "id": "54d23b7f",
   "metadata": {},
   "outputs": [],
   "source": [
    "e = essay(\"Antifragile\", \"Nassim Taleb\")"
   ]
  },
  {
   "cell_type": "code",
   "execution_count": 37,
   "id": "9fcb26fd",
   "metadata": {},
   "outputs": [
    {
     "name": "stdout",
     "output_type": "stream",
     "text": [
      "Antifragile\n",
      "Nassim Taleb\n",
      "Antifragile\n",
      "Nassim Taleb\n"
     ]
    }
   ],
   "source": [
    "print(e.title)\n",
    "print(e. author)\n",
    "\n",
    "print(b.title)\n",
    "print(b.author)\n"
   ]
  },
  {
   "cell_type": "code",
   "execution_count": null,
   "id": "2ed02543",
   "metadata": {},
   "outputs": [],
   "source": []
  },
  {
   "cell_type": "code",
   "execution_count": null,
   "id": "613a3c9e",
   "metadata": {},
   "outputs": [],
   "source": []
  },
  {
   "cell_type": "code",
   "execution_count": null,
   "id": "00a244d4",
   "metadata": {},
   "outputs": [],
   "source": []
  },
  {
   "cell_type": "code",
   "execution_count": null,
   "id": "23563e2a",
   "metadata": {},
   "outputs": [],
   "source": []
  },
  {
   "cell_type": "code",
   "execution_count": null,
   "id": "15567284",
   "metadata": {},
   "outputs": [],
   "source": []
  },
  {
   "cell_type": "code",
   "execution_count": null,
   "id": "9912aab6",
   "metadata": {},
   "outputs": [],
   "source": []
  },
  {
   "cell_type": "code",
   "execution_count": null,
   "id": "27e6bc4c",
   "metadata": {},
   "outputs": [],
   "source": []
  },
  {
   "cell_type": "code",
   "execution_count": null,
   "id": "d696125f",
   "metadata": {},
   "outputs": [],
   "source": []
  },
  {
   "cell_type": "code",
   "execution_count": null,
   "id": "e9d5a7ce",
   "metadata": {},
   "outputs": [],
   "source": []
  },
  {
   "cell_type": "code",
   "execution_count": null,
   "id": "9b39873b",
   "metadata": {},
   "outputs": [],
   "source": []
  },
  {
   "cell_type": "code",
   "execution_count": null,
   "id": "8be90e1d",
   "metadata": {},
   "outputs": [],
   "source": []
  },
  {
   "cell_type": "code",
   "execution_count": null,
   "id": "7cfb08ab",
   "metadata": {},
   "outputs": [],
   "source": []
  }
 ],
 "metadata": {
  "kernelspec": {
   "display_name": "Python 3",
   "language": "python",
   "name": "python3"
  },
  "language_info": {
   "codemirror_mode": {
    "name": "ipython",
    "version": 3
   },
   "file_extension": ".py",
   "mimetype": "text/x-python",
   "name": "python",
   "nbconvert_exporter": "python",
   "pygments_lexer": "ipython3",
   "version": "3.12.1"
  }
 },
 "nbformat": 4,
 "nbformat_minor": 5
}
