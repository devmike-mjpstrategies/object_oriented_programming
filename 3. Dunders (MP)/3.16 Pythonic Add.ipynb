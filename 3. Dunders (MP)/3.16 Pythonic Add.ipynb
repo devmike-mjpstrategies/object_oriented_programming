{
 "cells": [
  {
   "cell_type": "markdown",
   "id": "df9c044c",
   "metadata": {},
   "source": [
    "### Pythonic Add / Operator Overloading\n",
    "\n",
    "In this lesson we will overload the + operator so that it also adds a book to our BookShelf class.\n",
    "\n",
    "Other operators could be similarly overloaded to support user-defined classes `__sub__`, `__rsub__`, `__mul__` `__rmul__`, `__div__`, and `__rdiv__`"
   ]
  },
  {
   "cell_type": "code",
   "execution_count": 2,
   "id": "66b94260",
   "metadata": {},
   "outputs": [],
   "source": [
    "from functools import total_ordering\n",
    "\n",
    "\n",
    "@total_ordering\n",
    "class Book:\n",
    "    def __init__(self, title, author, book_type, pages):\n",
    "        self.title = title\n",
    "        self.author = author\n",
    "        self.book_type = book_type\n",
    "        self.pages = pages\n",
    "\n",
    "    def __repr__(self):\n",
    "        return f\"Book('{self.title}', '{self.author}', '{self.book_type}', {self.pages})\"\n",
    "\n",
    "    def __eq__(self, other):\n",
    "        if not isinstance(other, Book):\n",
    "            return False\n",
    "\n",
    "        return self.title == other.title and self.author == other.author\n",
    "\n",
    "    def __gt__(self, other):\n",
    "        if not isinstance(other, Book):\n",
    "            return NotImplemented\n",
    "\n",
    "        return self.pages > other.pages\n",
    "\n",
    "    def __hash__(self):\n",
    "        return hash((self.title, self.author))\n",
    "\n",
    "    def __bool__(self):\n",
    "        return  bool(self.pages) and not (self.pages < 1)"
   ]
  },
  {
   "cell_type": "markdown",
   "id": "646e18fb",
   "metadata": {},
   "source": [
    "Here is the BookShelf class. Note that I added a `__add__` function as well as a `__radd__` function. This allows for adding to be commutative across book and shelf objects."
   ]
  },
  {
   "cell_type": "code",
   "execution_count": null,
   "id": "1a245862",
   "metadata": {},
   "outputs": [],
   "source": [
    "class BookShelf:\n",
    "    def __init__(self, capacity):\n",
    "        self.books = []\n",
    "        self.capacity = capacity\n",
    "\n",
    "    def add_book(self, book):\n",
    "        if not isinstance(book, Book):\n",
    "            raise TypeError(\"Only instances of Book could be added to the Bookshelf.\")\n",
    "        \n",
    "        if not self.capacity > len(self.books):\n",
    "            raise OverflowError(\"Bookshelf is full.\")\n",
    "        \n",
    "        self.books.append(book)\n",
    "\n",
    "    def __repr__(self):\n",
    "        return str(self.books)\n",
    "    \n",
    "    def __add__(self, other):\n",
    "        if not isinstance(other, Book):\n",
    "            raise TypeError(\"Operating only support on instances of Book\")\n",
    "        \n",
    "        new_shelf = BookShelf(self.capacity)\n",
    "\n",
    "        for book in self.books:\n",
    "            new_shelf.add_book(book)\n",
    "\n",
    "        new_shelf.add_book(other)\n",
    "    \n",
    "        return new_shelf\n",
    "    \n",
    "    def __radd__(self, other):\n",
    "        if not isinstance(other, Book):\n",
    "            raise TypeError(\"Operating only support on instances of Book\")\n",
    "        \n",
    "        return self + other"
   ]
  },
  {
   "cell_type": "code",
   "execution_count": 20,
   "id": "4342eade",
   "metadata": {},
   "outputs": [],
   "source": [
    "b1 = Book(\"Homo Empathicus\", \"Alexander Gorlach\", \"Paperback\", 160)\n",
    "b2 = Book(\"Titan\", \"Ron Chernow\", \"Hardcover\", 832)\n",
    "b3 = Book(\"The Circle\", \"Dave Eggers\", \"Paperback\", 497)\n",
    "b4 = Book(\"Homo Deus\", \"Yuval Noah Harari\", \"Paperback\", 464)"
   ]
  },
  {
   "cell_type": "code",
   "execution_count": 21,
   "id": "25968706",
   "metadata": {},
   "outputs": [],
   "source": [
    "shelf = BookShelf(10)\n",
    "shelf.add_book(b1)\n",
    "shelf.add_book(b2)"
   ]
  },
  {
   "cell_type": "code",
   "execution_count": 22,
   "id": "0ac204a3",
   "metadata": {},
   "outputs": [
    {
     "data": {
      "text/plain": [
       "[Book('Homo Empathicus', 'Alexander Gorlach', 'Paperback', 160), Book('Titan', 'Ron Chernow', 'Hardcover', 832), Book('The Circle', 'Dave Eggers', 'Paperback', 497)]"
      ]
     },
     "execution_count": 22,
     "metadata": {},
     "output_type": "execute_result"
    }
   ],
   "source": [
    "shelf + b3"
   ]
  },
  {
   "cell_type": "code",
   "execution_count": 23,
   "id": "8216ea8b",
   "metadata": {},
   "outputs": [
    {
     "data": {
      "text/plain": [
       "[Book('Homo Empathicus', 'Alexander Gorlach', 'Paperback', 160), Book('Titan', 'Ron Chernow', 'Hardcover', 832)]"
      ]
     },
     "execution_count": 23,
     "metadata": {},
     "output_type": "execute_result"
    }
   ],
   "source": [
    "shelf"
   ]
  },
  {
   "cell_type": "markdown",
   "id": "baeef1b0",
   "metadata": {},
   "source": [
    "### radd -> right add"
   ]
  },
  {
   "cell_type": "code",
   "execution_count": 24,
   "id": "02931cc8",
   "metadata": {},
   "outputs": [
    {
     "data": {
      "text/plain": [
       "[Book('Homo Empathicus', 'Alexander Gorlach', 'Paperback', 160), Book('Titan', 'Ron Chernow', 'Hardcover', 832), Book('The Circle', 'Dave Eggers', 'Paperback', 497)]"
      ]
     },
     "execution_count": 24,
     "metadata": {},
     "output_type": "execute_result"
    }
   ],
   "source": [
    "b3 + shelf"
   ]
  },
  {
   "cell_type": "code",
   "execution_count": 26,
   "id": "6746c4f5",
   "metadata": {},
   "outputs": [
    {
     "ename": "AttributeError",
     "evalue": "'Book' object has no attribute '__add__'",
     "output_type": "error",
     "traceback": [
      "\u001b[31m---------------------------------------------------------------------------\u001b[39m",
      "\u001b[31mAttributeError\u001b[39m                            Traceback (most recent call last)",
      "\u001b[36mCell\u001b[39m\u001b[36m \u001b[39m\u001b[32mIn[26]\u001b[39m\u001b[32m, line 1\u001b[39m\n\u001b[32m----> \u001b[39m\u001b[32m1\u001b[39m \u001b[43mb3\u001b[49m\u001b[43m.\u001b[49m\u001b[34;43m__add__\u001b[39;49m(shelf)\n",
      "\u001b[31mAttributeError\u001b[39m: 'Book' object has no attribute '__add__'"
     ]
    }
   ],
   "source": [
    "b3.__add__(shelf)"
   ]
  },
  {
   "cell_type": "code",
   "execution_count": 29,
   "id": "97ee5f1a",
   "metadata": {},
   "outputs": [
    {
     "data": {
      "text/plain": [
       "[Book('Homo Empathicus', 'Alexander Gorlach', 'Paperback', 160), Book('Titan', 'Ron Chernow', 'Hardcover', 832), Book('Homo Deus', 'Yuval Noah Harari', 'Paperback', 464), Book('The Circle', 'Dave Eggers', 'Paperback', 497)]"
      ]
     },
     "execution_count": 29,
     "metadata": {},
     "output_type": "execute_result"
    }
   ],
   "source": [
    "shelf.__radd__(b3)"
   ]
  },
  {
   "cell_type": "markdown",
   "id": "4c6d0454",
   "metadata": {},
   "source": [
    "### <--- right to left"
   ]
  },
  {
   "cell_type": "code",
   "execution_count": 30,
   "id": "e5566d5f",
   "metadata": {},
   "outputs": [],
   "source": [
    "shelf += b4"
   ]
  },
  {
   "cell_type": "markdown",
   "id": "b0a8da8d",
   "metadata": {},
   "source": []
  }
 ],
 "metadata": {
  "kernelspec": {
   "display_name": "Python 3",
   "language": "python",
   "name": "python3"
  },
  "language_info": {
   "codemirror_mode": {
    "name": "ipython",
    "version": 3
   },
   "file_extension": ".py",
   "mimetype": "text/x-python",
   "name": "python",
   "nbconvert_exporter": "python",
   "pygments_lexer": "ipython3",
   "version": "3.12.1"
  }
 },
 "nbformat": 4,
 "nbformat_minor": 5
}
