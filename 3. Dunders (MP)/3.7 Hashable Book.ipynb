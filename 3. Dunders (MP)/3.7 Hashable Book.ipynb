{
 "cells": [
  {
   "cell_type": "markdown",
   "id": "b2dbba2f",
   "metadata": {},
   "source": [
    "# Hashable Book\n",
    "Here is our Book class with an instance created."
   ]
  },
  {
   "cell_type": "code",
   "execution_count": 4,
   "id": "e8169d27",
   "metadata": {},
   "outputs": [],
   "source": [
    "class Book:\n",
    "    def __init__(self, title, author, book_type, pages):\n",
    "        self.title = title\n",
    "        self.author = author\n",
    "        self.book_type = book_type\n",
    "        self.pages = pages\n",
    "\n",
    "    def __repr__(self):\n",
    "        return f\"Book('{self.title}', '{self.author}', '{self.book_type}', {self.pages})\"\n",
    "    \n",
    "    def __eq__(self, other):\n",
    "        if not isinstance(other, Book):\n",
    "            return False\n",
    "        \n",
    "        return self.title == other.title and self.author == other.author"
   ]
  },
  {
   "cell_type": "code",
   "execution_count": 6,
   "id": "f48df416",
   "metadata": {},
   "outputs": [],
   "source": [
    "b = Book(\"Antifragile\", \"Nassim Taleb\", \"Hardcover\", 519)"
   ]
  },
  {
   "cell_type": "markdown",
   "id": "0873cad7",
   "metadata": {},
   "source": [
    "You can't hash this instance. Why not?"
   ]
  },
  {
   "cell_type": "code",
   "execution_count": 7,
   "id": "9a0223d2",
   "metadata": {},
   "outputs": [
    {
     "ename": "TypeError",
     "evalue": "unhashable type: 'Book'",
     "output_type": "error",
     "traceback": [
      "\u001b[31m---------------------------------------------------------------------------\u001b[39m",
      "\u001b[31mTypeError\u001b[39m                                 Traceback (most recent call last)",
      "\u001b[36mCell\u001b[39m\u001b[36m \u001b[39m\u001b[32mIn[7]\u001b[39m\u001b[32m, line 1\u001b[39m\n\u001b[32m----> \u001b[39m\u001b[32m1\u001b[39m \u001b[38;5;28;43mhash\u001b[39;49m\u001b[43m(\u001b[49m\u001b[43mb\u001b[49m\u001b[43m)\u001b[49m\n",
      "\u001b[31mTypeError\u001b[39m: unhashable type: 'Book'"
     ]
    }
   ],
   "source": [
    "hash(b)"
   ]
  },
  {
   "cell_type": "markdown",
   "id": "f9324e50",
   "metadata": {},
   "source": [
    "By default, user classes are hashable. We can't hash the instance because we defined a `__eq__` function."
   ]
  },
  {
   "cell_type": "code",
   "execution_count": 8,
   "id": "468e46ac",
   "metadata": {},
   "outputs": [],
   "source": [
    "class Magazine:\n",
    "    pass"
   ]
  },
  {
   "cell_type": "code",
   "execution_count": 9,
   "id": "e86c05ad",
   "metadata": {},
   "outputs": [],
   "source": [
    "m = Magazine()"
   ]
  },
  {
   "cell_type": "code",
   "execution_count": 10,
   "id": "d0311938",
   "metadata": {},
   "outputs": [
    {
     "data": {
      "text/plain": [
       "8595681833892"
      ]
     },
     "execution_count": 10,
     "metadata": {},
     "output_type": "execute_result"
    }
   ],
   "source": [
    "hash(m)"
   ]
  },
  {
   "cell_type": "markdown",
   "id": "c06b6e5b",
   "metadata": {},
   "source": [
    "We make a class hashable again by defining `__hash__`, which should always return an integer. As it is closely related to equality, it's a good idea for `__hash__` to consider the same attributes that `__eq__` uses in determining equality."
   ]
  },
  {
   "cell_type": "code",
   "execution_count": 16,
   "id": "5db1f48d",
   "metadata": {},
   "outputs": [],
   "source": [
    "class Book:\n",
    "    def __init__(self, title, author, book_type, pages):\n",
    "        self.title = title\n",
    "        self.author = author\n",
    "        self.book_type = book_type\n",
    "        self.pages = pages\n",
    "\n",
    "    def __repr__(self):\n",
    "        return f\"Book('{self.title}', '{self.author}', '{self.book_type}', {self.pages})\"\n",
    "    \n",
    "    def __eq__(self, other):\n",
    "        if not isinstance(other, Book):\n",
    "            return False\n",
    "        \n",
    "        return self.title == other.title and self.author == other.author\n",
    "    \n",
    "    def __hash__(self):\n",
    "        return hash((self.title, self.author))"
   ]
  },
  {
   "cell_type": "code",
   "execution_count": 19,
   "id": "8a87648f",
   "metadata": {},
   "outputs": [],
   "source": [
    "b = Book(\"Antifragile\", \"Nassim Taleb\", \"Hardcover\", 519)\n",
    "b2 = Book(\"Antifragile\", \"Nassim Taleb II\", \"Hardcover\", 519)\n",
    "b3 = Book(\"Antifragile\", \"Nassim Taleb\", \"Hardcover\", 519)"
   ]
  },
  {
   "cell_type": "code",
   "execution_count": 21,
   "id": "1f2996b6",
   "metadata": {},
   "outputs": [
    {
     "data": {
      "text/plain": [
       "True"
      ]
     },
     "execution_count": 21,
     "metadata": {},
     "output_type": "execute_result"
    }
   ],
   "source": [
    "hash(b) == hash(b3)"
   ]
  },
  {
   "cell_type": "code",
   "execution_count": 22,
   "id": "f7647748",
   "metadata": {},
   "outputs": [
    {
     "data": {
      "text/plain": [
       "(-7980286554724081553, -7980286554724081553)"
      ]
     },
     "execution_count": 22,
     "metadata": {},
     "output_type": "execute_result"
    }
   ],
   "source": [
    "hash(b), hash(b3)"
   ]
  },
  {
   "cell_type": "code",
   "execution_count": 23,
   "id": "ae7dd7d5",
   "metadata": {},
   "outputs": [
    {
     "data": {
      "text/plain": [
       "False"
      ]
     },
     "execution_count": 23,
     "metadata": {},
     "output_type": "execute_result"
    }
   ],
   "source": [
    "hash(b) == hash(b2)"
   ]
  },
  {
   "cell_type": "code",
   "execution_count": null,
   "id": "840bbfc0",
   "metadata": {},
   "outputs": [],
   "source": []
  }
 ],
 "metadata": {
  "kernelspec": {
   "display_name": "Python 3",
   "language": "python",
   "name": "python3"
  },
  "language_info": {
   "codemirror_mode": {
    "name": "ipython",
    "version": 3
   },
   "file_extension": ".py",
   "mimetype": "text/x-python",
   "name": "python",
   "nbconvert_exporter": "python",
   "pygments_lexer": "ipython3",
   "version": "3.12.1"
  }
 },
 "nbformat": 4,
 "nbformat_minor": 5
}
