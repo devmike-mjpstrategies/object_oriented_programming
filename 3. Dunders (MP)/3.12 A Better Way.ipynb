{
 "cells": [
  {
   "cell_type": "markdown",
   "id": "2642fbfc",
   "metadata": {},
   "source": [
    "### `functools`: A Better Way\n",
    "\n",
    "Using so many comparison dunders can open you up to risk of errors. For example, if you accidentally have the `__lt__` return True, then you may end up in\n",
    "a situation where opposite comparisons yield the same result."
   ]
  },
  {
   "cell_type": "code",
   "execution_count": 30,
   "id": "0d20dddc",
   "metadata": {},
   "outputs": [],
   "source": [
    "class Book:\n",
    "    def __init__(self, title, author, book_type, pages):\n",
    "        self.title = title\n",
    "        self.author = author\n",
    "        self.book_type = book_type\n",
    "        self.pages = pages\n",
    "\n",
    "    def __repr__(self):\n",
    "        return f\"Book('{self.title}', '{self.author}', '{self.book_type}', {self.pages})\"\n",
    "\n",
    "    def __eq__(self, other):\n",
    "        if not isinstance(other, Book):\n",
    "            return False\n",
    "\n",
    "        return self.title == other.title and self.author == other.author\n",
    "\n",
    "    def __gt__(self, other):\n",
    "        if not isinstance(other, Book):\n",
    "            return NotImplemented\n",
    "\n",
    "        return self.pages > other.pages\n",
    "\n",
    "    def __lt__(self, other):\n",
    "        return True\n",
    "\n",
    "    def __le__(self, other):\n",
    "        return self.pages <= other.pages\n",
    "\n",
    "    def __ge__(self, other):\n",
    "        return NotImplemented\n",
    "\n",
    "    def __hash__(self):\n",
    "        return hash((self.title, self.author))\n",
    "    \n",
    "b = Book(\"Antifragile\", \"Nassim Taleb\", \"Hardcover\", 519)\n",
    "\n",
    "b1 = Book(\"How Asia Works\", \"Joe Studwell\", \"Paperback\", 472)"
   ]
  },
  {
   "cell_type": "code",
   "execution_count": 33,
   "id": "7fa6ad12",
   "metadata": {},
   "outputs": [
    {
     "name": "stdout",
     "output_type": "stream",
     "text": [
      "True\n",
      "True\n"
     ]
    }
   ],
   "source": [
    "print(b < b1)\n",
    "print(b > b1)"
   ]
  },
  {
   "cell_type": "markdown",
   "id": "d9d75f1e",
   "metadata": {},
   "source": [
    "The better way is to use `functools`. \n"
   ]
  },
  {
   "cell_type": "code",
   "execution_count": 13,
   "id": "27613409",
   "metadata": {},
   "outputs": [],
   "source": [
    "from functools import total_ordering"
   ]
  },
  {
   "cell_type": "markdown",
   "id": "55662680",
   "metadata": {},
   "source": [
    "Because we wrap the class in `total_ordering`, we are able to set all the comparison dunders by simply setting `__eq__` and any one of the other dunders lt, ge, le, or gt. (in the case below I defined  `__gt__`.)"
   ]
  },
  {
   "cell_type": "code",
   "execution_count": 36,
   "id": "d18d7ddd",
   "metadata": {},
   "outputs": [],
   "source": [
    "@total_ordering\n",
    "class Book:\n",
    "    def __init__(self, title, author, book_type, pages):\n",
    "        self.title = title\n",
    "        self.author = author\n",
    "        self.book_type = book_type\n",
    "        self.pages = pages\n",
    "\n",
    "    def __repr__(self):\n",
    "        return f\"Book('{self.title}', '{self.author}', '{self.book_type}', {self.pages})\"\n",
    "\n",
    "    def __eq__(self, other):\n",
    "        if not isinstance(other, Book):\n",
    "            return False\n",
    "\n",
    "        return self.title == other.title and self.author == other.author\n",
    "\n",
    "    def __gt__(self, other):\n",
    "        if not isinstance(other, Book):\n",
    "            return NotImplemented\n",
    "\n",
    "        return self.pages > other.pages\n",
    "\n",
    "    def __hash__(self):\n",
    "        return hash((self.title, self.author))\n",
    "    \n",
    "b = Book(\"Antifragile\", \"Nassim Taleb\", \"Hardcover\", 519)\n",
    "\n",
    "b1 = Book(\"How Asia Works\", \"Joe Studwell\", \"Paperback\", 472)"
   ]
  },
  {
   "cell_type": "code",
   "execution_count": 38,
   "id": "ae917cdd",
   "metadata": {},
   "outputs": [],
   "source": [
    "# Book = total_ordering(Book)\n",
    "# Under the hood, this is what the @total_ordering decorator does: It takes the class (Book) and returns a special version of itself.\n",
    "# Removing the decorator and running the above line will return the same results as below."
   ]
  },
  {
   "cell_type": "markdown",
   "id": "afaf6ebe",
   "metadata": {},
   "source": [
    "Now all the comparison dunders work as expected."
   ]
  },
  {
   "cell_type": "code",
   "execution_count": 29,
   "id": "5d7012e9",
   "metadata": {},
   "outputs": [
    {
     "name": "stdout",
     "output_type": "stream",
     "text": [
      "False\n",
      "True\n",
      "False\n",
      "False\n",
      "True\n",
      "True\n"
     ]
    }
   ],
   "source": [
    "print(b == b1)\n",
    "print(b != b1)\n",
    "print(b < b1)\n",
    "print(b <= b1)\n",
    "print(b > b1)\n",
    "print(b >= b1)"
   ]
  }
 ],
 "metadata": {
  "kernelspec": {
   "display_name": "Python 3",
   "language": "python",
   "name": "python3"
  },
  "language_info": {
   "codemirror_mode": {
    "name": "ipython",
    "version": 3
   },
   "file_extension": ".py",
   "mimetype": "text/x-python",
   "name": "python",
   "nbconvert_exporter": "python",
   "pygments_lexer": "ipython3",
   "version": "3.12.1"
  }
 },
 "nbformat": 4,
 "nbformat_minor": 5
}
