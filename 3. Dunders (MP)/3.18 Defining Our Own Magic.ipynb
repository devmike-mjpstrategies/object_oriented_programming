{
 "cells": [
  {
   "cell_type": "markdown",
   "id": "b1fb29b5",
   "metadata": {},
   "source": [
    "## Defining Our Own Magic\n",
    "\n",
    "We can create our own dunders. See `__greeting__` below. But it'll probably never be necessary to do so. Dunders are just for the Python interpreter to run, not for us to run directly."
   ]
  },
  {
   "cell_type": "code",
   "execution_count": 1,
   "id": "d5e538dc",
   "metadata": {},
   "outputs": [],
   "source": [
    "from functools import total_ordering\n",
    "\n",
    "\n",
    "@total_ordering\n",
    "class Book:\n",
    "    def __init__(self, title, author, book_type, pages):\n",
    "        self.title = title\n",
    "        self.author = author\n",
    "        self.book_type = book_type\n",
    "        self.pages = pages\n",
    "\n",
    "    def __repr__(self):\n",
    "        return f\"Book('{self.title}', '{self.author}', '{self.book_type}', {self.pages})\"\n",
    "\n",
    "    def __eq__(self, other):\n",
    "        if not isinstance(other, Book):\n",
    "            return False\n",
    "\n",
    "        return self.title == other.title and self.author == other.author\n",
    "\n",
    "    def __gt__(self, other):\n",
    "        if not isinstance(other, Book):\n",
    "            return NotImplemented\n",
    "\n",
    "        return self.pages > other.pages\n",
    "\n",
    "    def __hash__(self):\n",
    "        return hash((self.title, self.author))\n",
    "\n",
    "    # def __bool__(self):\n",
    "    #     return bool(self.pages) and not (self.pages < 1)\n",
    "\n",
    "    def __len__(self):\n",
    "        return self.pages if self.pages > 0 else 0"
   ]
  },
  {
   "cell_type": "code",
   "execution_count": 6,
   "id": "1f0ab9d8",
   "metadata": {},
   "outputs": [],
   "source": [
    "\n",
    "class BookShelf:\n",
    "    def __init__(self, capacity):\n",
    "        self.books = []\n",
    "        self.capacity = capacity\n",
    "\n",
    "    def add_book(self, book):\n",
    "        if not isinstance(book, Book):\n",
    "            raise TypeError(\"Only instances of Book could be added to the BookShelf\")\n",
    "\n",
    "        if not self.capacity > len(self.books):\n",
    "            raise OverflowError(\"BookShelf is full\")\n",
    "\n",
    "        self.books.append(book)\n",
    "\n",
    "    def __repr__(self):\n",
    "        return str(self.books)\n",
    "\n",
    "    def __add__(self, other):\n",
    "        if not isinstance(other, Book):\n",
    "            raise TypeError(\"Operating only supported on instances of Book\")\n",
    "\n",
    "        new_shelf = BookShelf(self.capacity)\n",
    "\n",
    "        for book in self.books:\n",
    "            new_shelf.add_book(book)\n",
    "\n",
    "        new_shelf.add_book(other)\n",
    "\n",
    "        return new_shelf\n",
    "\n",
    "    def __radd__(self, other):\n",
    "        if not isinstance(other, Book):\n",
    "            raise TypeError(\"Operating only supported on instances of Book\")\n",
    "\n",
    "        return self + other\n",
    "\n",
    "    def __getitem__(self, item):\n",
    "        if isinstance(item, str):\n",
    "            return [book for book in self.books if item.lower() in book.title.lower()]\n",
    "\n",
    "        return self.books[item]\n",
    "\n",
    "    def __greeting__(self):\n",
    "        return \"Last stop before the skill challenge!!\"\n",
    "\n",
    "    def __sum__(self):\n",
    "        pass\n"
   ]
  },
  {
   "cell_type": "code",
   "execution_count": 7,
   "id": "6ec04c1a",
   "metadata": {},
   "outputs": [],
   "source": [
    "bs = BookShelf(3)\n"
   ]
  },
  {
   "cell_type": "code",
   "execution_count": 8,
   "id": "9c9dad93",
   "metadata": {},
   "outputs": [
    {
     "data": {
      "text/plain": [
       "'Last stop before the skill challenge!!'"
      ]
     },
     "execution_count": 8,
     "metadata": {},
     "output_type": "execute_result"
    }
   ],
   "source": [
    "bs.__greeting__()\n"
   ]
  },
  {
   "cell_type": "markdown",
   "id": "efd83f50",
   "metadata": {},
   "source": [
    "And you can see that our new `__greeting__` dunder lives right alonside the others."
   ]
  },
  {
   "cell_type": "code",
   "execution_count": 9,
   "id": "99d033e1",
   "metadata": {},
   "outputs": [
    {
     "data": {
      "text/plain": [
       "mappingproxy({'__module__': '__main__',\n",
       "              '__init__': <function __main__.BookShelf.__init__(self, capacity)>,\n",
       "              'add_book': <function __main__.BookShelf.add_book(self, book)>,\n",
       "              '__repr__': <function __main__.BookShelf.__repr__(self)>,\n",
       "              '__add__': <function __main__.BookShelf.__add__(self, other)>,\n",
       "              '__radd__': <function __main__.BookShelf.__radd__(self, other)>,\n",
       "              '__getitem__': <function __main__.BookShelf.__getitem__(self, item)>,\n",
       "              '__greeting__': <function __main__.BookShelf.__greeting__(self)>,\n",
       "              '__sum__': <function __main__.BookShelf.__sum__(self)>,\n",
       "              '__dict__': <attribute '__dict__' of 'BookShelf' objects>,\n",
       "              '__weakref__': <attribute '__weakref__' of 'BookShelf' objects>,\n",
       "              '__doc__': None})"
      ]
     },
     "execution_count": 9,
     "metadata": {},
     "output_type": "execute_result"
    }
   ],
   "source": [
    "BookShelf.__dict__"
   ]
  },
  {
   "cell_type": "code",
   "execution_count": null,
   "id": "8513b67a",
   "metadata": {},
   "outputs": [],
   "source": []
  }
 ],
 "metadata": {
  "kernelspec": {
   "display_name": "Python 3",
   "language": "python",
   "name": "python3"
  },
  "language_info": {
   "codemirror_mode": {
    "name": "ipython",
    "version": 3
   },
   "file_extension": ".py",
   "mimetype": "text/x-python",
   "name": "python",
   "nbconvert_exporter": "python",
   "pygments_lexer": "ipython3",
   "version": "3.12.1"
  }
 },
 "nbformat": 4,
 "nbformat_minor": 5
}
