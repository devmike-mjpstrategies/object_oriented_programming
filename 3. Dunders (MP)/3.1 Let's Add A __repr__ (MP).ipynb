{
 "cells": [
  {
   "cell_type": "markdown",
   "id": "2a590d06",
   "metadata": {},
   "source": [
    "# We can customize our objects' representation by implementing `__repr__` in the objects' class definition."
   ]
  },
  {
   "cell_type": "markdown",
   "id": "e91c64d7",
   "metadata": {},
   "source": [
    "Here is a class I've created."
   ]
  },
  {
   "cell_type": "code",
   "execution_count": 1,
   "id": "6d65edc5",
   "metadata": {},
   "outputs": [],
   "source": [
    "class Book:\n",
    "    def __init__(self, title, author, book_type, pages):\n",
    "        self.title = title\n",
    "        self.author = author\n",
    "        self.book_type = book_type\n",
    "        self.pages = pages"
   ]
  },
  {
   "cell_type": "markdown",
   "id": "a03049bf",
   "metadata": {},
   "source": [
    "Now, I'm creating an instance *b* of the class Book. I'm passing 1 attribute implicitly (self) and four explicitly (title, author, book_type, and pages)."
   ]
  },
  {
   "cell_type": "code",
   "execution_count": 2,
   "id": "31b57403",
   "metadata": {},
   "outputs": [],
   "source": [
    "b = Book(\"Antifragile\", \"Nassim Taleb\", \"Hardcover\", 519)"
   ]
  },
  {
   "cell_type": "markdown",
   "id": "fbe1a65e",
   "metadata": {},
   "source": [
    "The default representation of this object is shown below. (Showing memory location)"
   ]
  },
  {
   "cell_type": "code",
   "execution_count": 3,
   "id": "8f137804",
   "metadata": {},
   "outputs": [
    {
     "name": "stdout",
     "output_type": "stream",
     "text": [
      "<__main__.Book object at 0x70dcd8749040>\n",
      "<__main__.Book object at 0x70dcd8749040>\n"
     ]
    }
   ],
   "source": [
    "print(b)\n",
    "print(repr(b))"
   ]
  },
  {
   "cell_type": "markdown",
   "id": "06910bca",
   "metadata": {},
   "source": [
    "To customize the representation, just customize the \\_\\_repr\\_\\_ function."
   ]
  },
  {
   "cell_type": "code",
   "execution_count": 4,
   "id": "2b28e469",
   "metadata": {},
   "outputs": [],
   "source": [
    "class Book:\n",
    "    def __init__(self, title, author, book_type, pages):\n",
    "        self.title = title\n",
    "        self.author = author\n",
    "        self.book_type = book_type\n",
    "        self.pages = pages\n",
    "\n",
    "    def __repr__(self):\n",
    "        return f\"The title is {self.title}\""
   ]
  },
  {
   "cell_type": "code",
   "execution_count": 5,
   "id": "2fd92392",
   "metadata": {},
   "outputs": [],
   "source": [
    "b = Book(\"Antifragile\", \"Nassim Taleb\", \"Hardcover\", 519)"
   ]
  },
  {
   "cell_type": "markdown",
   "id": "a324e264",
   "metadata": {},
   "source": [
    "Now, when you call the object, you get a customized representation of it."
   ]
  },
  {
   "cell_type": "code",
   "execution_count": 6,
   "id": "2e7fea89",
   "metadata": {},
   "outputs": [
    {
     "data": {
      "text/plain": [
       "The title is Antifragile"
      ]
     },
     "execution_count": 6,
     "metadata": {},
     "output_type": "execute_result"
    }
   ],
   "source": [
    "b"
   ]
  },
  {
   "cell_type": "code",
   "execution_count": 16,
   "id": "6a2814a5",
   "metadata": {},
   "outputs": [
    {
     "name": "stdout",
     "output_type": "stream",
     "text": [
      "The title is Antifragile\n"
     ]
    }
   ],
   "source": [
    "print(b)"
   ]
  }
 ],
 "metadata": {
  "kernelspec": {
   "display_name": "Python 3",
   "language": "python",
   "name": "python3"
  },
  "language_info": {
   "codemirror_mode": {
    "name": "ipython",
    "version": 3
   },
   "file_extension": ".py",
   "mimetype": "text/x-python",
   "name": "python",
   "nbconvert_exporter": "python",
   "pygments_lexer": "ipython3",
   "version": "3.12.1"
  }
 },
 "nbformat": 4,
 "nbformat_minor": 5
}
