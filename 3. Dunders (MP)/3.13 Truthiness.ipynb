{
 "cells": [
  {
   "cell_type": "markdown",
   "id": "91441b81",
   "metadata": {},
   "source": [
    "## Truthiness"
   ]
  },
  {
   "cell_type": "markdown",
   "id": "6b2fdaf7",
   "metadata": {},
   "source": [
    "Objects, including instances of user-defined classes, by default are truthy."
   ]
  },
  {
   "cell_type": "code",
   "execution_count": 10,
   "id": "2c63d137",
   "metadata": {},
   "outputs": [],
   "source": [
    "from functools import total_ordering\n",
    "\n",
    "\n",
    "@total_ordering\n",
    "class Book:\n",
    "    def __init__(self, title, author, book_type, pages):\n",
    "        self.title = title\n",
    "        self.author = author\n",
    "        self.book_type = book_type\n",
    "        self.pages = pages\n",
    "\n",
    "    def __repr__(self):\n",
    "        return f\"Book('{self.title}', '{self.author}', '{self.book_type}', {self.pages})\"\n",
    "\n",
    "    def __eq__(self, other):\n",
    "        if not isinstance(other, Book):\n",
    "            return False\n",
    "\n",
    "        return self.title == other.title and self.author == other.author\n",
    "\n",
    "    def __gt__(self, other):\n",
    "        if not isinstance(other, Book):\n",
    "            return NotImplemented\n",
    "\n",
    "        return self.pages > other.pages\n",
    "\n",
    "    def __hash__(self):\n",
    "        return hash((self.title, self.author))\n"
   ]
  },
  {
   "cell_type": "code",
   "execution_count": 18,
   "id": "433e462b",
   "metadata": {},
   "outputs": [],
   "source": [
    "b = Book(\"Antifragile\", \"Nassim Taleb\", \"Hardcover\", 519)"
   ]
  },
  {
   "cell_type": "code",
   "execution_count": 12,
   "id": "2881e143",
   "metadata": {},
   "outputs": [
    {
     "name": "stdout",
     "output_type": "stream",
     "text": [
      "Truthy\n"
     ]
    }
   ],
   "source": [
    "if b: \n",
    "    print(\"Truthy\")\n",
    "else:\n",
    "    print(\"Falsey\")\n",
    "          "
   ]
  },
  {
   "cell_type": "code",
   "execution_count": 13,
   "id": "1d7dffad",
   "metadata": {},
   "outputs": [
    {
     "data": {
      "text/plain": [
       "True"
      ]
     },
     "execution_count": 13,
     "metadata": {},
     "output_type": "execute_result"
    }
   ],
   "source": [
    "bool(b)"
   ]
  },
  {
   "cell_type": "markdown",
   "id": "539c5ef0",
   "metadata": {},
   "source": [
    "To cusomize this behaviour, we define special logic within `__bool__`"
   ]
  },
  {
   "cell_type": "code",
   "execution_count": 21,
   "id": "4e0bded6",
   "metadata": {},
   "outputs": [],
   "source": [
    "from functools import total_ordering\n",
    "\n",
    "\n",
    "@total_ordering\n",
    "class Book:\n",
    "    def __init__(self, title, author, book_type, pages):\n",
    "        self.title = title\n",
    "        self.author = author\n",
    "        self.book_type = book_type\n",
    "        self.pages = pages\n",
    "\n",
    "    def __repr__(self):\n",
    "        return f\"Book('{self.title}', '{self.author}', '{self.book_type}', {self.pages})\"\n",
    "\n",
    "    def __eq__(self, other):\n",
    "        if not isinstance(other, Book):\n",
    "            return False\n",
    "\n",
    "        return self.title == other.title and self.author == other.author\n",
    "\n",
    "    def __gt__(self, other):\n",
    "        if not isinstance(other, Book):\n",
    "            return NotImplemented\n",
    "\n",
    "        return self.pages > other.pages\n",
    "\n",
    "    def __hash__(self):\n",
    "        return hash((self.title, self.author))\n",
    "\n",
    "    def __bool__(self):\n",
    "        return  bool(self.pages) and not (self.pages < 1)"
   ]
  },
  {
   "cell_type": "code",
   "execution_count": 22,
   "id": "4ccdf24f",
   "metadata": {},
   "outputs": [
    {
     "data": {
      "text/plain": [
       "True"
      ]
     },
     "execution_count": 22,
     "metadata": {},
     "output_type": "execute_result"
    }
   ],
   "source": [
    "bool(b)"
   ]
  },
  {
   "cell_type": "code",
   "execution_count": 23,
   "id": "ccbbfff3",
   "metadata": {},
   "outputs": [
    {
     "data": {
      "text/plain": [
       "False"
      ]
     },
     "execution_count": 23,
     "metadata": {},
     "output_type": "execute_result"
    }
   ],
   "source": [
    "bool(0)"
   ]
  },
  {
   "cell_type": "code",
   "execution_count": 24,
   "id": "f9738d86",
   "metadata": {},
   "outputs": [
    {
     "data": {
      "text/plain": [
       "(False, False, False, False, False)"
      ]
     },
     "execution_count": 24,
     "metadata": {},
     "output_type": "execute_result"
    }
   ],
   "source": [
    "bool([]), bool(None), bool({}), bool(set()), bool(\"\")"
   ]
  },
  {
   "cell_type": "code",
   "execution_count": 25,
   "id": "1087f5c3",
   "metadata": {},
   "outputs": [],
   "source": [
    "b_zero = Book(\"Antifragile\", \"Nassim Taleb\", \"Hardcover\", 0)\n",
    "b_neg = Book(\"Antifragile\", \"Nassim Taleb\", \"Hardcover\", -10)\n",
    "b_pos = Book(\"Antifragile\", \"Nassim Taleb\", \"Hardcover\", 519)"
   ]
  },
  {
   "cell_type": "code",
   "execution_count": 26,
   "id": "4f4055e3",
   "metadata": {},
   "outputs": [
    {
     "data": {
      "text/plain": [
       "(False, False, True)"
      ]
     },
     "execution_count": 26,
     "metadata": {},
     "output_type": "execute_result"
    }
   ],
   "source": [
    "bool(b_zero), bool(b_neg), bool(b_pos)"
   ]
  },
  {
   "cell_type": "code",
   "execution_count": null,
   "id": "ab9e5d72",
   "metadata": {},
   "outputs": [],
   "source": []
  }
 ],
 "metadata": {
  "kernelspec": {
   "display_name": "Python 3",
   "language": "python",
   "name": "python3"
  },
  "language_info": {
   "codemirror_mode": {
    "name": "ipython",
    "version": 3
   },
   "file_extension": ".py",
   "mimetype": "text/x-python",
   "name": "python",
   "nbconvert_exporter": "python",
   "pygments_lexer": "ipython3",
   "version": "3.12.1"
  }
 },
 "nbformat": 4,
 "nbformat_minor": 5
}
