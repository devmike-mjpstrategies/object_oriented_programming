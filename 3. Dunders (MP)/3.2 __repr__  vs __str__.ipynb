{
 "cells": [
  {
   "cell_type": "markdown",
   "id": "9d11521d",
   "metadata": {},
   "source": [
    "This looks similar to `__repr__`, but it does not change the object representation. The intent of `__str__` is for informal end user use, while `__repr__` is more for dev/code user use. The intent is to provide all the info a developer would need to recreate the instance."
   ]
  },
  {
   "cell_type": "code",
   "execution_count": 22,
   "id": "f7dedd0d",
   "metadata": {},
   "outputs": [],
   "source": [
    "class Book:\n",
    "    def __init__(self, title, author, book_type, pages):\n",
    "        self.title = title\n",
    "        self.author = author\n",
    "        self.book_type = book_type\n",
    "        self.pages = pages\n",
    "\n",
    "    def __repr__(self):\n",
    "        return f\"Attributes: {self.title}, {self.author}, {self.book_type}, {self.pages}\"\n",
    "    \n",
    "    def __str__(self):\n",
    "        return f\"{self.title} by {self.author} in {self.book_type}\""
   ]
  },
  {
   "cell_type": "code",
   "execution_count": 23,
   "id": "76393cb4",
   "metadata": {},
   "outputs": [],
   "source": [
    "b = Book(\"Antifragile\", \"Nassim Taleb\", \"Hardcover\", 519)"
   ]
  },
  {
   "cell_type": "markdown",
   "id": "03aeb9a6",
   "metadata": {},
   "source": [
    "Note that while the string representation has changed.... "
   ]
  },
  {
   "cell_type": "code",
   "execution_count": 24,
   "id": "194202ee",
   "metadata": {},
   "outputs": [
    {
     "data": {
      "text/plain": [
       "'Antifragile by Nassim Taleb in Hardcover'"
      ]
     },
     "execution_count": 24,
     "metadata": {},
     "output_type": "execute_result"
    }
   ],
   "source": [
    "str(b)"
   ]
  },
  {
   "cell_type": "markdown",
   "id": "1826c546",
   "metadata": {},
   "source": [
    "The object  `__repr__` has not changed."
   ]
  },
  {
   "cell_type": "code",
   "execution_count": 25,
   "id": "5fba8fe5",
   "metadata": {},
   "outputs": [
    {
     "data": {
      "text/plain": [
       "Attributes: Antifragile, Nassim Taleb, Hardcover, 519"
      ]
     },
     "execution_count": 25,
     "metadata": {},
     "output_type": "execute_result"
    }
   ],
   "source": [
    "b"
   ]
  },
  {
   "cell_type": "code",
   "execution_count": 26,
   "id": "a98198f1",
   "metadata": {},
   "outputs": [
    {
     "data": {
      "text/plain": [
       "{'title': 'Antifragile',\n",
       " 'author': 'Nassim Taleb',\n",
       " 'book_type': 'Hardcover',\n",
       " 'pages': 519}"
      ]
     },
     "execution_count": 26,
     "metadata": {},
     "output_type": "execute_result"
    }
   ],
   "source": [
    "b.__dict__"
   ]
  },
  {
   "cell_type": "markdown",
   "id": "b9728be2",
   "metadata": {},
   "source": [
    "### Evaluate as valid python code into a new instance\n",
    "Python's `eval()` function takes a string and evaluates it as if it is code."
   ]
  },
  {
   "cell_type": "code",
   "execution_count": 27,
   "id": "e6d5795f",
   "metadata": {},
   "outputs": [
    {
     "data": {
      "text/plain": [
       "4"
      ]
     },
     "execution_count": 27,
     "metadata": {},
     "output_type": "execute_result"
    }
   ],
   "source": [
    "eval('2+2')"
   ]
  },
  {
   "cell_type": "code",
   "execution_count": 28,
   "id": "1c5b013f",
   "metadata": {},
   "outputs": [
    {
     "name": "stdout",
     "output_type": "stream",
     "text": [
      "do nothing\n"
     ]
    }
   ],
   "source": [
    "eval(\"print('do nothing')\")"
   ]
  },
  {
   "cell_type": "markdown",
   "id": "fdaac1f4",
   "metadata": {},
   "source": [
    "The goal of `__repr__` should be to return a string that can be directly passed to `eval()` to reconstruct the instance."
   ]
  },
  {
   "cell_type": "code",
   "execution_count": 29,
   "id": "6894954c",
   "metadata": {},
   "outputs": [
    {
     "data": {
      "text/plain": [
       "'Attributes: Antifragile, Nassim Taleb, Hardcover, 519'"
      ]
     },
     "execution_count": 29,
     "metadata": {},
     "output_type": "execute_result"
    }
   ],
   "source": [
    "repr(b)"
   ]
  },
  {
   "cell_type": "code",
   "execution_count": 30,
   "id": "1588354c",
   "metadata": {},
   "outputs": [
    {
     "ename": "NameError",
     "evalue": "name 'b1' is not defined",
     "output_type": "error",
     "traceback": [
      "\u001b[31m---------------------------------------------------------------------------\u001b[39m",
      "\u001b[31mNameError\u001b[39m                                 Traceback (most recent call last)",
      "\u001b[36mCell\u001b[39m\u001b[36m \u001b[39m\u001b[32mIn[30]\u001b[39m\u001b[32m, line 1\u001b[39m\n\u001b[32m----> \u001b[39m\u001b[32m1\u001b[39m \u001b[38;5;28meval\u001b[39m(\u001b[38;5;28mrepr\u001b[39m(\u001b[43mb1\u001b[49m))\n",
      "\u001b[31mNameError\u001b[39m: name 'b1' is not defined"
     ]
    }
   ],
   "source": [
    "eval(repr(b1))"
   ]
  },
  {
   "cell_type": "code",
   "execution_count": 34,
   "id": "77a17d96",
   "metadata": {},
   "outputs": [],
   "source": [
    "class Book:\n",
    "    def __init__(self, title, author, book_type, pages):\n",
    "        self.title = title\n",
    "        self.author = author\n",
    "        self.book_type = book_type\n",
    "        self.pages = pages\n",
    "\n",
    "    def __repr__(self):\n",
    "        return f\"Book('{self.title}', '{self.author}', '{self.book_type}', {self.pages})\"\n",
    "    \n",
    "    def __str__(self):\n",
    "        return f\"{self.title} by {self.author} in {self.book_type}\""
   ]
  },
  {
   "cell_type": "code",
   "execution_count": 35,
   "id": "a6edb54f",
   "metadata": {},
   "outputs": [],
   "source": [
    "b = Book(\"Antifragile\", \"Nassim Taleb\", \"Hardcover\", 519)"
   ]
  },
  {
   "cell_type": "code",
   "execution_count": 36,
   "id": "5f433d78",
   "metadata": {},
   "outputs": [
    {
     "data": {
      "text/plain": [
       "Book('Antifragile', 'Nassim Taleb', 'Hardcover', 519)"
      ]
     },
     "execution_count": 36,
     "metadata": {},
     "output_type": "execute_result"
    }
   ],
   "source": [
    "b"
   ]
  },
  {
   "cell_type": "code",
   "execution_count": 37,
   "id": "8839d9f0",
   "metadata": {},
   "outputs": [
    {
     "data": {
      "text/plain": [
       "\"Book('Antifragile', 'Nassim Taleb', 'Hardcover', 519)\""
      ]
     },
     "execution_count": 37,
     "metadata": {},
     "output_type": "execute_result"
    }
   ],
   "source": [
    "repr(b)"
   ]
  },
  {
   "cell_type": "code",
   "execution_count": 38,
   "id": "1e75b2b0",
   "metadata": {},
   "outputs": [
    {
     "data": {
      "text/plain": [
       "Book('Antifragile', 'Nassim Taleb', 'Hardcover', 519)"
      ]
     },
     "execution_count": 38,
     "metadata": {},
     "output_type": "execute_result"
    }
   ],
   "source": [
    "eval(repr(b))"
   ]
  },
  {
   "cell_type": "markdown",
   "id": "84708086",
   "metadata": {},
   "source": [
    "Note that `str` reverts to `__repr__` if `__str__` is not defined."
   ]
  },
  {
   "cell_type": "code",
   "execution_count": 40,
   "id": "1a1461c3",
   "metadata": {},
   "outputs": [],
   "source": [
    "class Book:\n",
    "    def __init__(self, title, author, book_type, pages):\n",
    "        self.title = title\n",
    "        self.author = author\n",
    "        self.book_type = book_type\n",
    "        self.pages = pages\n",
    "\n",
    "    def __repr__(self):\n",
    "        return f\"Book('{self.title}', '{self.author}', '{self.book_type}', {self.pages})\"\n",
    "    \n",
    "    # def __str__(self):\n",
    "    #     return f\"{self.title} by {self.author} in {self.book_type}\""
   ]
  },
  {
   "cell_type": "code",
   "execution_count": 41,
   "id": "5aec4b5e",
   "metadata": {},
   "outputs": [],
   "source": [
    "b = Book(\"Antifragile\", \"Nassim Taleb\", \"Hardcover\", 519)"
   ]
  },
  {
   "cell_type": "code",
   "execution_count": 44,
   "id": "e55cfd03",
   "metadata": {},
   "outputs": [
    {
     "name": "stdout",
     "output_type": "stream",
     "text": [
      "Book('Antifragile', 'Nassim Taleb', 'Hardcover', 519)\n"
     ]
    }
   ],
   "source": [
    "print(b) # normally -> str() -> __str__"
   ]
  },
  {
   "cell_type": "code",
   "execution_count": null,
   "id": "6c5fe1f3",
   "metadata": {},
   "outputs": [],
   "source": []
  }
 ],
 "metadata": {
  "kernelspec": {
   "display_name": "Python 3",
   "language": "python",
   "name": "python3"
  },
  "language_info": {
   "codemirror_mode": {
    "name": "ipython",
    "version": 3
   },
   "file_extension": ".py",
   "mimetype": "text/x-python",
   "name": "python",
   "nbconvert_exporter": "python",
   "pygments_lexer": "ipython3",
   "version": "3.12.1"
  }
 },
 "nbformat": 4,
 "nbformat_minor": 5
}
